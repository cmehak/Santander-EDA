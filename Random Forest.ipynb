{
 "cells": [
  {
   "cell_type": "code",
   "execution_count": 1,
   "metadata": {},
   "outputs": [],
   "source": [
    "import pandas as pd\n",
    "import numpy as np\n",
    "from sklearn import preprocessing\n",
    "import matplotlib.pyplot as plt \n",
    "plt.rc(\"font\", size=14)\n",
    "from sklearn.svm import SVC\n",
    "from sklearn.model_selection import train_test_split\n",
    "import seaborn as sns\n",
    "sns.set(style=\"white\")\n",
    "sns.set(style=\"whitegrid\", color_codes=True)"
   ]
  },
  {
   "cell_type": "code",
   "execution_count": 2,
   "metadata": {},
   "outputs": [],
   "source": [
    "df=pd.read_csv(r\"C:\\Users\\yash3.goyal\\Desktop\\train.csv\")"
   ]
  },
  {
   "cell_type": "code",
   "execution_count": 3,
   "metadata": {},
   "outputs": [],
   "source": [
    "x=df.drop(['ID_code','target'],axis=1)\n",
    "y=df.target"
   ]
  },
  {
   "cell_type": "code",
   "execution_count": 4,
   "metadata": {},
   "outputs": [],
   "source": [
    "x_train, x_test, y_train, y_test = train_test_split(x, y,test_size=0.3)"
   ]
  },
  {
   "cell_type": "code",
   "execution_count": 9,
   "metadata": {},
   "outputs": [
    {
     "name": "stderr",
     "output_type": "stream",
     "text": [
      "[Parallel(n_jobs=1)]: Using backend SequentialBackend with 1 concurrent workers.\n",
      "[Parallel(n_jobs=1)]: Done 100 out of 100 | elapsed: 51.4min finished\n"
     ]
    },
    {
     "data": {
      "text/plain": [
       "RandomForestClassifier(bootstrap=True, class_weight='balanced',\n",
       "            criterion='gini', max_depth=None, max_features=0.5,\n",
       "            max_leaf_nodes=None, min_impurity_decrease=0.0,\n",
       "            min_impurity_split=None, min_samples_leaf=100,\n",
       "            min_samples_split=2, min_weight_fraction_leaf=0.0,\n",
       "            n_estimators=100, n_jobs=None, oob_score=False,\n",
       "            random_state=2019, verbose=1, warm_start=False)"
      ]
     },
     "execution_count": 9,
     "metadata": {},
     "output_type": "execute_result"
    }
   ],
   "source": [
    "from sklearn.ensemble import RandomForestClassifier\n",
    "rf = RandomForestClassifier(n_estimators=100, random_state=2019, verbose=1,\n",
    "                                      class_weight='balanced', max_features = 0.5, \n",
    "                                       min_samples_leaf = 100)\n",
    "\n",
    "\n",
    "rf.fit(x_train, y_train)"
   ]
  },
  {
   "cell_type": "code",
   "execution_count": 10,
   "metadata": {},
   "outputs": [
    {
     "name": "stderr",
     "output_type": "stream",
     "text": [
      "[Parallel(n_jobs=1)]: Using backend SequentialBackend with 1 concurrent workers.\n"
     ]
    },
    {
     "name": "stdout",
     "output_type": "stream",
     "text": [
      "[[46601  7360]\n",
      " [ 3013  3026]]\n"
     ]
    },
    {
     "name": "stderr",
     "output_type": "stream",
     "text": [
      "[Parallel(n_jobs=1)]: Done 100 out of 100 | elapsed:    2.5s finished\n"
     ]
    }
   ],
   "source": [
    "y_pred = rf.predict(x_test)\n",
    "from sklearn.metrics import confusion_matrix\n",
    "confusion_matrix = confusion_matrix(y_test, y_pred)\n",
    "print(confusion_matrix)"
   ]
  },
  {
   "cell_type": "code",
   "execution_count": 11,
   "metadata": {},
   "outputs": [
    {
     "name": "stdout",
     "output_type": "stream",
     "text": [
      "0.8271166666666666\n"
     ]
    }
   ],
   "source": [
    "from sklearn import metrics\n",
    "\n",
    "print(metrics.accuracy_score(y_test, y_pred))"
   ]
  },
  {
   "cell_type": "code",
   "execution_count": 12,
   "metadata": {},
   "outputs": [
    {
     "name": "stdout",
     "output_type": "stream",
     "text": [
      "0.6823407667437098\n"
     ]
    }
   ],
   "source": [
    "from sklearn import metrics\n",
    "\n",
    "print(metrics.roc_auc_score(y_test, y_pred))"
   ]
  },
  {
   "cell_type": "code",
   "execution_count": 5,
   "metadata": {},
   "outputs": [
    {
     "data": {
      "text/plain": [
       "VarianceThreshold(threshold=0)"
      ]
     },
     "execution_count": 5,
     "metadata": {},
     "output_type": "execute_result"
    }
   ],
   "source": [
    "from sklearn.feature_selection import VarianceThreshold\n",
    "\n",
    "\n",
    "feature_selector = VarianceThreshold(threshold=0)\n",
    "\n",
    "# Fit finds the features with zero variance\n",
    "feature_selector.fit(x_train)"
   ]
  },
  {
   "cell_type": "code",
   "execution_count": 6,
   "metadata": {},
   "outputs": [
    {
     "data": {
      "text/plain": [
       "array([ True,  True,  True,  True,  True,  True,  True,  True,  True,\n",
       "        True,  True,  True,  True,  True,  True,  True,  True,  True,\n",
       "        True,  True,  True,  True,  True,  True,  True,  True,  True,\n",
       "        True,  True,  True,  True,  True,  True,  True,  True,  True,\n",
       "        True,  True,  True,  True,  True,  True,  True,  True,  True,\n",
       "        True,  True,  True,  True,  True,  True,  True,  True,  True,\n",
       "        True,  True,  True,  True,  True,  True,  True,  True,  True,\n",
       "        True,  True,  True,  True,  True,  True,  True,  True,  True,\n",
       "        True,  True,  True,  True,  True,  True,  True,  True,  True,\n",
       "        True,  True,  True,  True,  True,  True,  True,  True,  True,\n",
       "        True,  True,  True,  True,  True,  True,  True,  True,  True,\n",
       "        True,  True,  True,  True,  True,  True,  True,  True,  True,\n",
       "        True,  True,  True,  True,  True,  True,  True,  True,  True,\n",
       "        True,  True,  True,  True,  True,  True,  True,  True,  True,\n",
       "        True,  True,  True,  True,  True,  True,  True,  True,  True,\n",
       "        True,  True,  True,  True,  True,  True,  True,  True,  True,\n",
       "        True,  True,  True,  True,  True,  True,  True,  True,  True,\n",
       "        True,  True,  True,  True,  True,  True,  True,  True,  True,\n",
       "        True,  True,  True,  True,  True,  True,  True,  True,  True,\n",
       "        True,  True,  True,  True,  True,  True,  True,  True,  True,\n",
       "        True,  True,  True,  True,  True,  True,  True,  True,  True,\n",
       "        True,  True,  True,  True,  True,  True,  True,  True,  True,\n",
       "        True,  True])"
      ]
     },
     "execution_count": 6,
     "metadata": {},
     "output_type": "execute_result"
    }
   ],
   "source": [
    "feature_selector.get_support()"
   ]
  },
  {
   "cell_type": "code",
   "execution_count": 7,
   "metadata": {},
   "outputs": [
    {
     "data": {
      "text/plain": [
       "200"
      ]
     },
     "execution_count": 7,
     "metadata": {},
     "output_type": "execute_result"
    }
   ],
   "source": [
    "sum(feature_selector.get_support())"
   ]
  },
  {
   "cell_type": "code",
   "execution_count": 8,
   "metadata": {},
   "outputs": [
    {
     "data": {
      "text/html": [
       "<div>\n",
       "<style scoped>\n",
       "    .dataframe tbody tr th:only-of-type {\n",
       "        vertical-align: middle;\n",
       "    }\n",
       "\n",
       "    .dataframe tbody tr th {\n",
       "        vertical-align: top;\n",
       "    }\n",
       "\n",
       "    .dataframe thead th {\n",
       "        text-align: right;\n",
       "    }\n",
       "</style>\n",
       "<table border=\"1\" class=\"dataframe\">\n",
       "  <thead>\n",
       "    <tr style=\"text-align: right;\">\n",
       "      <th></th>\n",
       "      <th>152048</th>\n",
       "      <th>192813</th>\n",
       "      <th>34257</th>\n",
       "      <th>74563</th>\n",
       "      <th>143031</th>\n",
       "      <th>159571</th>\n",
       "      <th>69155</th>\n",
       "      <th>199128</th>\n",
       "      <th>86222</th>\n",
       "      <th>173282</th>\n",
       "      <th>...</th>\n",
       "      <th>185710</th>\n",
       "      <th>5976</th>\n",
       "      <th>110946</th>\n",
       "      <th>70223</th>\n",
       "      <th>86955</th>\n",
       "      <th>172635</th>\n",
       "      <th>8672</th>\n",
       "      <th>149541</th>\n",
       "      <th>42180</th>\n",
       "      <th>193492</th>\n",
       "    </tr>\n",
       "  </thead>\n",
       "  <tbody>\n",
       "    <tr>\n",
       "      <th>var_0</th>\n",
       "      <td>8.4295</td>\n",
       "      <td>12.2961</td>\n",
       "      <td>5.7353</td>\n",
       "      <td>13.9203</td>\n",
       "      <td>12.0783</td>\n",
       "      <td>13.0586</td>\n",
       "      <td>7.6813</td>\n",
       "      <td>10.5278</td>\n",
       "      <td>13.7614</td>\n",
       "      <td>9.8876</td>\n",
       "      <td>...</td>\n",
       "      <td>10.4279</td>\n",
       "      <td>12.4616</td>\n",
       "      <td>9.9498</td>\n",
       "      <td>9.2127</td>\n",
       "      <td>8.4996</td>\n",
       "      <td>10.0417</td>\n",
       "      <td>12.6345</td>\n",
       "      <td>12.1704</td>\n",
       "      <td>3.5881</td>\n",
       "      <td>12.0238</td>\n",
       "    </tr>\n",
       "    <tr>\n",
       "      <th>var_1</th>\n",
       "      <td>-9.3537</td>\n",
       "      <td>-5.5811</td>\n",
       "      <td>-5.3532</td>\n",
       "      <td>-2.0235</td>\n",
       "      <td>-1.8267</td>\n",
       "      <td>-2.7102</td>\n",
       "      <td>1.9431</td>\n",
       "      <td>1.1185</td>\n",
       "      <td>0.0168</td>\n",
       "      <td>3.6419</td>\n",
       "      <td>...</td>\n",
       "      <td>0.6765</td>\n",
       "      <td>-5.0196</td>\n",
       "      <td>-3.3498</td>\n",
       "      <td>-4.7928</td>\n",
       "      <td>1.5151</td>\n",
       "      <td>2.1508</td>\n",
       "      <td>-6.1396</td>\n",
       "      <td>-1.9528</td>\n",
       "      <td>-6.0646</td>\n",
       "      <td>-1.9690</td>\n",
       "    </tr>\n",
       "    <tr>\n",
       "      <th>var_2</th>\n",
       "      <td>10.8130</td>\n",
       "      <td>8.6393</td>\n",
       "      <td>8.2503</td>\n",
       "      <td>17.5548</td>\n",
       "      <td>10.0182</td>\n",
       "      <td>9.6392</td>\n",
       "      <td>7.4778</td>\n",
       "      <td>14.0492</td>\n",
       "      <td>8.7423</td>\n",
       "      <td>9.5288</td>\n",
       "      <td>...</td>\n",
       "      <td>10.5321</td>\n",
       "      <td>10.1896</td>\n",
       "      <td>11.2391</td>\n",
       "      <td>7.7137</td>\n",
       "      <td>13.5783</td>\n",
       "      <td>13.3998</td>\n",
       "      <td>9.0656</td>\n",
       "      <td>14.0325</td>\n",
       "      <td>14.2913</td>\n",
       "      <td>12.8555</td>\n",
       "    </tr>\n",
       "    <tr>\n",
       "      <th>var_3</th>\n",
       "      <td>6.7166</td>\n",
       "      <td>8.2139</td>\n",
       "      <td>5.4615</td>\n",
       "      <td>7.6281</td>\n",
       "      <td>8.9732</td>\n",
       "      <td>2.5103</td>\n",
       "      <td>6.1294</td>\n",
       "      <td>4.6953</td>\n",
       "      <td>6.5488</td>\n",
       "      <td>6.0492</td>\n",
       "      <td>...</td>\n",
       "      <td>6.2548</td>\n",
       "      <td>9.7007</td>\n",
       "      <td>4.8127</td>\n",
       "      <td>7.9419</td>\n",
       "      <td>6.9679</td>\n",
       "      <td>10.1150</td>\n",
       "      <td>9.3740</td>\n",
       "      <td>5.8994</td>\n",
       "      <td>4.3901</td>\n",
       "      <td>7.9143</td>\n",
       "    </tr>\n",
       "    <tr>\n",
       "      <th>var_4</th>\n",
       "      <td>12.1462</td>\n",
       "      <td>11.6357</td>\n",
       "      <td>12.6408</td>\n",
       "      <td>13.7481</td>\n",
       "      <td>14.3851</td>\n",
       "      <td>8.7735</td>\n",
       "      <td>11.3018</td>\n",
       "      <td>8.9322</td>\n",
       "      <td>12.9220</td>\n",
       "      <td>11.6381</td>\n",
       "      <td>...</td>\n",
       "      <td>9.1555</td>\n",
       "      <td>8.8660</td>\n",
       "      <td>12.3222</td>\n",
       "      <td>13.0748</td>\n",
       "      <td>11.4431</td>\n",
       "      <td>10.7844</td>\n",
       "      <td>9.9936</td>\n",
       "      <td>13.6158</td>\n",
       "      <td>9.2953</td>\n",
       "      <td>9.8318</td>\n",
       "    </tr>\n",
       "  </tbody>\n",
       "</table>\n",
       "<p>5 rows × 140000 columns</p>\n",
       "</div>"
      ],
      "text/plain": [
       "        152048   192813   34257    74563    143031   159571   69155    199128  \\\n",
       "var_0   8.4295  12.2961   5.7353  13.9203  12.0783  13.0586   7.6813  10.5278   \n",
       "var_1  -9.3537  -5.5811  -5.3532  -2.0235  -1.8267  -2.7102   1.9431   1.1185   \n",
       "var_2  10.8130   8.6393   8.2503  17.5548  10.0182   9.6392   7.4778  14.0492   \n",
       "var_3   6.7166   8.2139   5.4615   7.6281   8.9732   2.5103   6.1294   4.6953   \n",
       "var_4  12.1462  11.6357  12.6408  13.7481  14.3851   8.7735  11.3018   8.9322   \n",
       "\n",
       "        86222    173282   ...      185710   5976     110946   70223    86955   \\\n",
       "var_0  13.7614   9.8876   ...     10.4279  12.4616   9.9498   9.2127   8.4996   \n",
       "var_1   0.0168   3.6419   ...      0.6765  -5.0196  -3.3498  -4.7928   1.5151   \n",
       "var_2   8.7423   9.5288   ...     10.5321  10.1896  11.2391   7.7137  13.5783   \n",
       "var_3   6.5488   6.0492   ...      6.2548   9.7007   4.8127   7.9419   6.9679   \n",
       "var_4  12.9220  11.6381   ...      9.1555   8.8660  12.3222  13.0748  11.4431   \n",
       "\n",
       "        172635   8672     149541   42180    193492  \n",
       "var_0  10.0417  12.6345  12.1704   3.5881  12.0238  \n",
       "var_1   2.1508  -6.1396  -1.9528  -6.0646  -1.9690  \n",
       "var_2  13.3998   9.0656  14.0325  14.2913  12.8555  \n",
       "var_3  10.1150   9.3740   5.8994   4.3901   7.9143  \n",
       "var_4  10.7844   9.9936  13.6158   9.2953   9.8318  \n",
       "\n",
       "[5 rows x 140000 columns]"
      ]
     },
     "execution_count": 8,
     "metadata": {},
     "output_type": "execute_result"
    }
   ],
   "source": [
    "data_t = x_train.T\n",
    "data_t.head()"
   ]
  },
  {
   "cell_type": "code",
   "execution_count": 9,
   "metadata": {},
   "outputs": [
    {
     "data": {
      "text/plain": [
       "0"
      ]
     },
     "execution_count": 9,
     "metadata": {},
     "output_type": "execute_result"
    }
   ],
   "source": [
    "data_t.duplicated().sum()"
   ]
  },
  {
   "cell_type": "code",
   "execution_count": 10,
   "metadata": {},
   "outputs": [
    {
     "ename": "KeyboardInterrupt",
     "evalue": "",
     "output_type": "error",
     "traceback": [
      "\u001b[1;31m---------------------------------------------------------------------------\u001b[0m",
      "\u001b[1;31mKeyboardInterrupt\u001b[0m                         Traceback (most recent call last)",
      "\u001b[1;32m<ipython-input-10-d08afb01f637>\u001b[0m in \u001b[0;36m<module>\u001b[1;34m\u001b[0m\n\u001b[1;32m----> 1\u001b[1;33m \u001b[0mdata_t\u001b[0m\u001b[1;33m[\u001b[0m\u001b[0mdata_t\u001b[0m\u001b[1;33m.\u001b[0m\u001b[0mduplicated\u001b[0m\u001b[1;33m(\u001b[0m\u001b[1;33m)\u001b[0m\u001b[1;33m]\u001b[0m\u001b[1;33m\u001b[0m\u001b[1;33m\u001b[0m\u001b[0m\n\u001b[0m",
      "\u001b[1;32m~\\AppData\\Local\\Continuum\\anaconda3\\lib\\site-packages\\pandas\\core\\frame.py\u001b[0m in \u001b[0;36m__getitem__\u001b[1;34m(self, key)\u001b[0m\n\u001b[0;32m   2662\u001b[0m                 \u001b[1;32mreturn\u001b[0m \u001b[0mresult\u001b[0m\u001b[1;33m\u001b[0m\u001b[1;33m\u001b[0m\u001b[0m\n\u001b[0;32m   2663\u001b[0m \u001b[1;33m\u001b[0m\u001b[0m\n\u001b[1;32m-> 2664\u001b[1;33m     \u001b[1;32mdef\u001b[0m \u001b[0m__getitem__\u001b[0m\u001b[1;33m(\u001b[0m\u001b[0mself\u001b[0m\u001b[1;33m,\u001b[0m \u001b[0mkey\u001b[0m\u001b[1;33m)\u001b[0m\u001b[1;33m:\u001b[0m\u001b[1;33m\u001b[0m\u001b[1;33m\u001b[0m\u001b[0m\n\u001b[0m\u001b[0;32m   2665\u001b[0m         \u001b[0mkey\u001b[0m \u001b[1;33m=\u001b[0m \u001b[0mcom\u001b[0m\u001b[1;33m.\u001b[0m\u001b[0m_apply_if_callable\u001b[0m\u001b[1;33m(\u001b[0m\u001b[0mkey\u001b[0m\u001b[1;33m,\u001b[0m \u001b[0mself\u001b[0m\u001b[1;33m)\u001b[0m\u001b[1;33m\u001b[0m\u001b[1;33m\u001b[0m\u001b[0m\n\u001b[0;32m   2666\u001b[0m \u001b[1;33m\u001b[0m\u001b[0m\n",
      "\u001b[1;31mKeyboardInterrupt\u001b[0m: "
     ]
    }
   ],
   "source": [
    "data_t[data_t.duplicated()]"
   ]
  },
  {
   "cell_type": "code",
   "execution_count": 11,
   "metadata": {},
   "outputs": [],
   "source": [
    "from sklearn.feature_selection import mutual_info_classif, mutual_info_regression\n",
    "from sklearn.feature_selection import SelectKBest, SelectPercentile"
   ]
  },
  {
   "cell_type": "code",
   "execution_count": 12,
   "metadata": {},
   "outputs": [
    {
     "data": {
      "text/plain": [
       "array([2.02495133e-03, 2.05848255e-03, 2.50998549e-03, 1.00061171e-03,\n",
       "       0.00000000e+00, 1.29185943e-03, 3.41811195e-03, 0.00000000e+00,\n",
       "       9.95484618e-04, 2.32334790e-03, 1.11643869e-04, 0.00000000e+00,\n",
       "       4.57415415e-03, 1.52506553e-03, 0.00000000e+00, 2.47539034e-03,\n",
       "       1.20500510e-03, 0.00000000e+00, 9.74668841e-04, 2.74629169e-04,\n",
       "       4.75146580e-05, 1.97747102e-03, 2.22718797e-03, 0.00000000e+00,\n",
       "       3.50866903e-04, 1.51419451e-03, 3.40170489e-03, 9.38859477e-04,\n",
       "       0.00000000e+00, 7.79990446e-04, 0.00000000e+00, 5.87562169e-04,\n",
       "       1.53994252e-03, 6.66714987e-04, 1.32885094e-03, 1.58251306e-03,\n",
       "       0.00000000e+00, 4.01541863e-04, 0.00000000e+00, 2.59212024e-04,\n",
       "       2.40795474e-03, 1.07141841e-03, 4.29711937e-05, 0.00000000e+00,\n",
       "       1.81748644e-03, 6.08254297e-04, 0.00000000e+00, 6.26880337e-04,\n",
       "       8.65340011e-04, 3.44400484e-04, 0.00000000e+00, 9.34917799e-04,\n",
       "       0.00000000e+00, 2.37454777e-03, 2.07497945e-04, 1.38356458e-03,\n",
       "       4.23095269e-04, 0.00000000e+00, 0.00000000e+00, 0.00000000e+00,\n",
       "       8.61926407e-04, 0.00000000e+00, 2.83716206e-04, 1.78259784e-03,\n",
       "       0.00000000e+00, 0.00000000e+00, 0.00000000e+00, 1.89581445e-04,\n",
       "       0.00000000e+00, 0.00000000e+00, 0.00000000e+00, 0.00000000e+00,\n",
       "       0.00000000e+00, 0.00000000e+00, 5.68676981e-04, 1.14143314e-03,\n",
       "       2.23216882e-03, 0.00000000e+00, 1.14419604e-03, 0.00000000e+00,\n",
       "       3.86048089e-03, 3.64176149e-03, 1.36138520e-03, 4.23599948e-04,\n",
       "       1.98105436e-05, 1.43207647e-03, 1.75357881e-03, 1.22353745e-03,\n",
       "       0.00000000e+00, 1.07319646e-04, 8.05205176e-04, 2.02744723e-03,\n",
       "       2.04114693e-03, 1.84776023e-03, 2.05412509e-03, 3.23664155e-04,\n",
       "       5.36885168e-05, 8.52858155e-04, 3.35241171e-04, 2.80289938e-03,\n",
       "       5.20088582e-05, 0.00000000e+00, 0.00000000e+00, 1.05168398e-03,\n",
       "       0.00000000e+00, 4.64553436e-04, 1.85348151e-03, 4.16612263e-04,\n",
       "       2.45974645e-03, 1.69238069e-03, 2.96320335e-03, 0.00000000e+00,\n",
       "       7.26265477e-04, 9.81563047e-05, 0.00000000e+00, 1.56541304e-03,\n",
       "       1.27312867e-03, 2.88016972e-05, 2.35350066e-03, 1.86215518e-03,\n",
       "       0.00000000e+00, 7.97880364e-04, 1.73640556e-04, 1.28500705e-03,\n",
       "       1.62085720e-04, 1.18757355e-03, 3.00557388e-04, 8.37855371e-04,\n",
       "       2.48323925e-04, 0.00000000e+00, 6.32868236e-04, 1.15764260e-03,\n",
       "       3.84582271e-04, 3.02272772e-03, 0.00000000e+00, 0.00000000e+00,\n",
       "       0.00000000e+00, 3.40321383e-04, 0.00000000e+00, 3.70233930e-03,\n",
       "       0.00000000e+00, 1.74035037e-04, 3.70485422e-04, 0.00000000e+00,\n",
       "       3.28346785e-05, 8.31364195e-04, 3.41505945e-03, 1.90164675e-03,\n",
       "       2.12322942e-03, 1.67674353e-03, 3.80106282e-04, 4.28147302e-04,\n",
       "       4.85789721e-04, 1.22827754e-04, 1.76502545e-03, 1.18171524e-03,\n",
       "       0.00000000e+00, 6.46059079e-04, 0.00000000e+00, 9.61471691e-04,\n",
       "       0.00000000e+00, 0.00000000e+00, 4.31236149e-04, 8.97067947e-04,\n",
       "       2.15903473e-03, 2.19756272e-03, 2.96145377e-03, 4.19934753e-04,\n",
       "       0.00000000e+00, 1.87890734e-03, 9.81583739e-04, 1.71662089e-03,\n",
       "       1.39695960e-03, 6.73412646e-04, 2.27235260e-03, 7.38728650e-04,\n",
       "       0.00000000e+00, 2.39483430e-03, 0.00000000e+00, 1.71024522e-03,\n",
       "       3.46390748e-04, 0.00000000e+00, 6.06456940e-05, 6.26022631e-04,\n",
       "       1.85054563e-03, 5.60050815e-04, 7.19502416e-04, 0.00000000e+00,\n",
       "       4.96293350e-04, 0.00000000e+00, 2.37056416e-03, 1.58623894e-03,\n",
       "       7.33632714e-04, 9.66479064e-05, 0.00000000e+00, 3.10215632e-04,\n",
       "       6.12812131e-04, 1.50227556e-03, 2.28891517e-03, 1.46951281e-03])"
      ]
     },
     "execution_count": 12,
     "metadata": {},
     "output_type": "execute_result"
    }
   ],
   "source": [
    "mutual_info = mutual_info_classif(x_train.fillna(0), y_train)\n",
    "mutual_info"
   ]
  },
  {
   "cell_type": "code",
   "execution_count": 14,
   "metadata": {},
   "outputs": [
    {
     "data": {
      "text/plain": [
       "var_12     0.004574\n",
       "var_80     0.003860\n",
       "var_139    0.003702\n",
       "var_81     0.003642\n",
       "var_6      0.003418\n",
       "var_146    0.003415\n",
       "var_26     0.003402\n",
       "var_133    0.003023\n",
       "var_110    0.002963\n",
       "var_166    0.002961\n",
       "var_99     0.002803\n",
       "var_2      0.002510\n",
       "var_15     0.002475\n",
       "var_108    0.002460\n",
       "var_40     0.002408\n",
       "var_177    0.002395\n",
       "var_53     0.002375\n",
       "var_190    0.002371\n",
       "var_118    0.002354\n",
       "var_9      0.002323\n",
       "var_198    0.002289\n",
       "var_174    0.002272\n",
       "var_76     0.002232\n",
       "var_22     0.002227\n",
       "var_165    0.002198\n",
       "var_164    0.002159\n",
       "var_148    0.002123\n",
       "var_1      0.002058\n",
       "var_94     0.002054\n",
       "var_92     0.002041\n",
       "             ...   \n",
       "var_30     0.000000\n",
       "var_136    0.000000\n",
       "var_66     0.000000\n",
       "var_58     0.000000\n",
       "var_57     0.000000\n",
       "var_61     0.000000\n",
       "var_178    0.000000\n",
       "var_64     0.000000\n",
       "var_187    0.000000\n",
       "var_52     0.000000\n",
       "var_114    0.000000\n",
       "var_50     0.000000\n",
       "var_65     0.000000\n",
       "var_176    0.000000\n",
       "var_46     0.000000\n",
       "var_68     0.000000\n",
       "var_59     0.000000\n",
       "var_43     0.000000\n",
       "var_69     0.000000\n",
       "var_70     0.000000\n",
       "var_71     0.000000\n",
       "var_38     0.000000\n",
       "var_72     0.000000\n",
       "var_36     0.000000\n",
       "var_73     0.000000\n",
       "var_129    0.000000\n",
       "var_104    0.000000\n",
       "var_134    0.000000\n",
       "var_135    0.000000\n",
       "var_120    0.000000\n",
       "Length: 200, dtype: float64"
      ]
     },
     "execution_count": 14,
     "metadata": {},
     "output_type": "execute_result"
    }
   ],
   "source": [
    "mi_series = pd.Series(mutual_info)\n",
    "mi_series.index = x_train.columns\n",
    "mi_series.sort_values(ascending=False)"
   ]
  },
  {
   "cell_type": "code",
   "execution_count": 15,
   "metadata": {},
   "outputs": [
    {
     "name": "stdout",
     "output_type": "stream",
     "text": [
      "Selected top 10 features: Index(['var_12', 'var_26', 'var_53', 'var_80', 'var_81', 'var_110', 'var_133',\n",
      "       'var_139', 'var_146', 'var_190'],\n",
      "      dtype='object')\n"
     ]
    }
   ],
   "source": [
    "k_best_features = SelectKBest(mutual_info_classif, k=10).fit(x_train.fillna(0), y_train)\n",
    "print('Selected top 10 features: {}'.format(x_train.columns[k_best_features.get_support()]))"
   ]
  },
  {
   "cell_type": "code",
   "execution_count": null,
   "metadata": {},
   "outputs": [],
   "source": []
  }
 ],
 "metadata": {
  "kernelspec": {
   "display_name": "Python 3",
   "language": "python",
   "name": "python3"
  },
  "language_info": {
   "codemirror_mode": {
    "name": "ipython",
    "version": 3
   },
   "file_extension": ".py",
   "mimetype": "text/x-python",
   "name": "python",
   "nbconvert_exporter": "python",
   "pygments_lexer": "ipython3",
   "version": "3.7.1"
  }
 },
 "nbformat": 4,
 "nbformat_minor": 2
}

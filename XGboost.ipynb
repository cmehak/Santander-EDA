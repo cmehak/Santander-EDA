{
 "cells": [
  {
   "cell_type": "code",
   "execution_count": 1,
   "metadata": {},
   "outputs": [],
   "source": [
    "import pandas as pd\n",
    "import numpy as np\n",
    "from sklearn import preprocessing\n",
    "import matplotlib.pyplot as plt \n",
    "plt.rc(\"font\", size=14)\n",
    "from sklearn.svm import SVC\n",
    "from sklearn.model_selection import train_test_split\n",
    "import seaborn as sns\n",
    "sns.set(style=\"white\")\n",
    "sns.set(style=\"whitegrid\", color_codes=True)"
   ]
  },
  {
   "cell_type": "code",
   "execution_count": 2,
   "metadata": {},
   "outputs": [],
   "source": [
    "df=pd.read_csv(r\"C:\\Users\\yash3.goyal\\Desktop\\train.csv\")"
   ]
  },
  {
   "cell_type": "code",
   "execution_count": 3,
   "metadata": {},
   "outputs": [],
   "source": [
    "x=df.drop(['ID_code','target'],axis=1)\n",
    "y=df.target"
   ]
  },
  {
   "cell_type": "code",
   "execution_count": 4,
   "metadata": {},
   "outputs": [],
   "source": [
    "x_train, x_test, y_train, y_test = train_test_split(x, y,test_size=0.3)"
   ]
  },
  {
   "cell_type": "code",
   "execution_count": 6,
   "metadata": {},
   "outputs": [],
   "source": [
    "import xgboost as xgb"
   ]
  },
  {
   "cell_type": "code",
   "execution_count": 11,
   "metadata": {},
   "outputs": [
    {
     "name": "stdout",
     "output_type": "stream",
     "text": [
      "[0]\tvalidation_0-error:0.099993\tvalidation_0-logloss:0.63144\tvalidation_1-error:0.100833\tvalidation_1-logloss:0.631597\n",
      "Multiple eval metrics have been passed: 'validation_1-logloss' will be used for early stopping.\n",
      "\n",
      "Will train until validation_1-logloss hasn't improved in 10 rounds.\n",
      "[1]\tvalidation_0-error:0.100029\tvalidation_0-logloss:0.580951\tvalidation_1-error:0.100567\tvalidation_1-logloss:0.581368\n",
      "[2]\tvalidation_0-error:0.100229\tvalidation_0-logloss:0.538696\tvalidation_1-error:0.10055\tvalidation_1-logloss:0.539701\n",
      "[3]\tvalidation_0-error:0.1003\tvalidation_0-logloss:0.504426\tvalidation_1-error:0.100567\tvalidation_1-logloss:0.504858\n",
      "[4]\tvalidation_0-error:0.100364\tvalidation_0-logloss:0.474932\tvalidation_1-error:0.100583\tvalidation_1-logloss:0.475733\n",
      "[5]\tvalidation_0-error:0.100357\tvalidation_0-logloss:0.450109\tvalidation_1-error:0.100617\tvalidation_1-logloss:0.450885\n",
      "[6]\tvalidation_0-error:0.100393\tvalidation_0-logloss:0.429077\tvalidation_1-error:0.100617\tvalidation_1-logloss:0.43004\n",
      "[7]\tvalidation_0-error:0.100393\tvalidation_0-logloss:0.410708\tvalidation_1-error:0.100633\tvalidation_1-logloss:0.412342\n",
      "[8]\tvalidation_0-error:0.100393\tvalidation_0-logloss:0.395339\tvalidation_1-error:0.1006\tvalidation_1-logloss:0.396991\n",
      "[9]\tvalidation_0-error:0.100379\tvalidation_0-logloss:0.381948\tvalidation_1-error:0.100617\tvalidation_1-logloss:0.383975\n",
      "[10]\tvalidation_0-error:0.100357\tvalidation_0-logloss:0.370606\tvalidation_1-error:0.100617\tvalidation_1-logloss:0.372714\n",
      "[11]\tvalidation_0-error:0.100364\tvalidation_0-logloss:0.360851\tvalidation_1-error:0.100617\tvalidation_1-logloss:0.363065\n",
      "[12]\tvalidation_0-error:0.100357\tvalidation_0-logloss:0.352372\tvalidation_1-error:0.100633\tvalidation_1-logloss:0.354797\n",
      "[13]\tvalidation_0-error:0.100386\tvalidation_0-logloss:0.345205\tvalidation_1-error:0.100633\tvalidation_1-logloss:0.347699\n",
      "[14]\tvalidation_0-error:0.100393\tvalidation_0-logloss:0.338753\tvalidation_1-error:0.100633\tvalidation_1-logloss:0.341649\n",
      "[15]\tvalidation_0-error:0.100379\tvalidation_0-logloss:0.333145\tvalidation_1-error:0.100633\tvalidation_1-logloss:0.336207\n",
      "[16]\tvalidation_0-error:0.100371\tvalidation_0-logloss:0.328135\tvalidation_1-error:0.100633\tvalidation_1-logloss:0.331538\n",
      "[17]\tvalidation_0-error:0.100379\tvalidation_0-logloss:0.323911\tvalidation_1-error:0.100633\tvalidation_1-logloss:0.327506\n",
      "[18]\tvalidation_0-error:0.100364\tvalidation_0-logloss:0.320159\tvalidation_1-error:0.100617\tvalidation_1-logloss:0.323848\n",
      "[19]\tvalidation_0-error:0.100357\tvalidation_0-logloss:0.316759\tvalidation_1-error:0.100617\tvalidation_1-logloss:0.320695\n",
      "[20]\tvalidation_0-error:0.100386\tvalidation_0-logloss:0.313745\tvalidation_1-error:0.100617\tvalidation_1-logloss:0.317962\n",
      "[21]\tvalidation_0-error:0.100357\tvalidation_0-logloss:0.311079\tvalidation_1-error:0.100617\tvalidation_1-logloss:0.315521\n",
      "[22]\tvalidation_0-error:0.100343\tvalidation_0-logloss:0.308666\tvalidation_1-error:0.100617\tvalidation_1-logloss:0.313314\n",
      "[23]\tvalidation_0-error:0.100364\tvalidation_0-logloss:0.306406\tvalidation_1-error:0.1006\tvalidation_1-logloss:0.311317\n",
      "[24]\tvalidation_0-error:0.100336\tvalidation_0-logloss:0.304377\tvalidation_1-error:0.1006\tvalidation_1-logloss:0.309552\n",
      "[25]\tvalidation_0-error:0.100329\tvalidation_0-logloss:0.30252\tvalidation_1-error:0.100617\tvalidation_1-logloss:0.307981\n",
      "[26]\tvalidation_0-error:0.100321\tvalidation_0-logloss:0.300786\tvalidation_1-error:0.1006\tvalidation_1-logloss:0.306412\n",
      "[27]\tvalidation_0-error:0.1003\tvalidation_0-logloss:0.299155\tvalidation_1-error:0.1006\tvalidation_1-logloss:0.305013\n",
      "[28]\tvalidation_0-error:0.100279\tvalidation_0-logloss:0.297617\tvalidation_1-error:0.1006\tvalidation_1-logloss:0.303686\n",
      "[29]\tvalidation_0-error:0.10025\tvalidation_0-logloss:0.296196\tvalidation_1-error:0.1006\tvalidation_1-logloss:0.302474\n",
      "[30]\tvalidation_0-error:0.100236\tvalidation_0-logloss:0.294843\tvalidation_1-error:0.1006\tvalidation_1-logloss:0.301312\n",
      "[31]\tvalidation_0-error:0.100229\tvalidation_0-logloss:0.293531\tvalidation_1-error:0.1006\tvalidation_1-logloss:0.300374\n",
      "[32]\tvalidation_0-error:0.100207\tvalidation_0-logloss:0.292223\tvalidation_1-error:0.1006\tvalidation_1-logloss:0.299332\n",
      "[33]\tvalidation_0-error:0.100193\tvalidation_0-logloss:0.290985\tvalidation_1-error:0.1006\tvalidation_1-logloss:0.298265\n",
      "[34]\tvalidation_0-error:0.1002\tvalidation_0-logloss:0.289802\tvalidation_1-error:0.100583\tvalidation_1-logloss:0.297368\n",
      "[35]\tvalidation_0-error:0.100164\tvalidation_0-logloss:0.288635\tvalidation_1-error:0.100583\tvalidation_1-logloss:0.296447\n",
      "[36]\tvalidation_0-error:0.100107\tvalidation_0-logloss:0.287533\tvalidation_1-error:0.100567\tvalidation_1-logloss:0.295587\n",
      "[37]\tvalidation_0-error:0.100057\tvalidation_0-logloss:0.286422\tvalidation_1-error:0.10055\tvalidation_1-logloss:0.294873\n",
      "[38]\tvalidation_0-error:0.1\tvalidation_0-logloss:0.285428\tvalidation_1-error:0.100517\tvalidation_1-logloss:0.294113\n",
      "[39]\tvalidation_0-error:0.099936\tvalidation_0-logloss:0.284418\tvalidation_1-error:0.100483\tvalidation_1-logloss:0.293381\n",
      "[40]\tvalidation_0-error:0.099907\tvalidation_0-logloss:0.283388\tvalidation_1-error:0.100433\tvalidation_1-logloss:0.292609\n",
      "[41]\tvalidation_0-error:0.099871\tvalidation_0-logloss:0.282408\tvalidation_1-error:0.100433\tvalidation_1-logloss:0.291759\n",
      "[42]\tvalidation_0-error:0.099836\tvalidation_0-logloss:0.281423\tvalidation_1-error:0.100367\tvalidation_1-logloss:0.290987\n",
      "[43]\tvalidation_0-error:0.0998\tvalidation_0-logloss:0.280432\tvalidation_1-error:0.10035\tvalidation_1-logloss:0.290253\n",
      "[44]\tvalidation_0-error:0.099743\tvalidation_0-logloss:0.279477\tvalidation_1-error:0.100333\tvalidation_1-logloss:0.289476\n",
      "[45]\tvalidation_0-error:0.099693\tvalidation_0-logloss:0.278575\tvalidation_1-error:0.1003\tvalidation_1-logloss:0.288766\n",
      "[46]\tvalidation_0-error:0.099643\tvalidation_0-logloss:0.277638\tvalidation_1-error:0.100267\tvalidation_1-logloss:0.288039\n",
      "[47]\tvalidation_0-error:0.099543\tvalidation_0-logloss:0.276742\tvalidation_1-error:0.100283\tvalidation_1-logloss:0.287406\n",
      "[48]\tvalidation_0-error:0.099479\tvalidation_0-logloss:0.275896\tvalidation_1-error:0.100267\tvalidation_1-logloss:0.286793\n",
      "[49]\tvalidation_0-error:0.099421\tvalidation_0-logloss:0.275022\tvalidation_1-error:0.10025\tvalidation_1-logloss:0.286271\n",
      "[50]\tvalidation_0-error:0.099329\tvalidation_0-logloss:0.274155\tvalidation_1-error:0.100167\tvalidation_1-logloss:0.285613\n",
      "[51]\tvalidation_0-error:0.09925\tvalidation_0-logloss:0.273291\tvalidation_1-error:0.1002\tvalidation_1-logloss:0.28499\n",
      "[52]\tvalidation_0-error:0.099186\tvalidation_0-logloss:0.272426\tvalidation_1-error:0.100183\tvalidation_1-logloss:0.28435\n",
      "[53]\tvalidation_0-error:0.0991\tvalidation_0-logloss:0.271629\tvalidation_1-error:0.10015\tvalidation_1-logloss:0.283804\n",
      "[54]\tvalidation_0-error:0.099\tvalidation_0-logloss:0.270856\tvalidation_1-error:0.10015\tvalidation_1-logloss:0.283236\n",
      "[55]\tvalidation_0-error:0.09895\tvalidation_0-logloss:0.270006\tvalidation_1-error:0.100167\tvalidation_1-logloss:0.282696\n",
      "[56]\tvalidation_0-error:0.098829\tvalidation_0-logloss:0.269166\tvalidation_1-error:0.10005\tvalidation_1-logloss:0.282107\n",
      "[57]\tvalidation_0-error:0.098714\tvalidation_0-logloss:0.268398\tvalidation_1-error:0.100033\tvalidation_1-logloss:0.281553\n",
      "[58]\tvalidation_0-error:0.098607\tvalidation_0-logloss:0.267636\tvalidation_1-error:0.100017\tvalidation_1-logloss:0.281067\n",
      "[59]\tvalidation_0-error:0.098514\tvalidation_0-logloss:0.266862\tvalidation_1-error:0.099933\tvalidation_1-logloss:0.280427\n",
      "[60]\tvalidation_0-error:0.098436\tvalidation_0-logloss:0.266101\tvalidation_1-error:0.09985\tvalidation_1-logloss:0.279788\n",
      "[61]\tvalidation_0-error:0.098243\tvalidation_0-logloss:0.265347\tvalidation_1-error:0.0998\tvalidation_1-logloss:0.279282\n",
      "[62]\tvalidation_0-error:0.098157\tvalidation_0-logloss:0.264588\tvalidation_1-error:0.0997\tvalidation_1-logloss:0.278781\n",
      "[63]\tvalidation_0-error:0.098093\tvalidation_0-logloss:0.263907\tvalidation_1-error:0.09965\tvalidation_1-logloss:0.278294\n",
      "[64]\tvalidation_0-error:0.097864\tvalidation_0-logloss:0.263217\tvalidation_1-error:0.09955\tvalidation_1-logloss:0.277703\n",
      "[65]\tvalidation_0-error:0.097793\tvalidation_0-logloss:0.262534\tvalidation_1-error:0.099517\tvalidation_1-logloss:0.277163\n",
      "[66]\tvalidation_0-error:0.097664\tvalidation_0-logloss:0.261817\tvalidation_1-error:0.0995\tvalidation_1-logloss:0.276671\n"
     ]
    },
    {
     "name": "stdout",
     "output_type": "stream",
     "text": [
      "[67]\tvalidation_0-error:0.097629\tvalidation_0-logloss:0.26115\tvalidation_1-error:0.09945\tvalidation_1-logloss:0.276194\n",
      "[68]\tvalidation_0-error:0.097421\tvalidation_0-logloss:0.26043\tvalidation_1-error:0.099333\tvalidation_1-logloss:0.27569\n",
      "[69]\tvalidation_0-error:0.097293\tvalidation_0-logloss:0.259733\tvalidation_1-error:0.09935\tvalidation_1-logloss:0.275179\n",
      "[70]\tvalidation_0-error:0.097179\tvalidation_0-logloss:0.259058\tvalidation_1-error:0.09925\tvalidation_1-logloss:0.274701\n",
      "[71]\tvalidation_0-error:0.097086\tvalidation_0-logloss:0.258434\tvalidation_1-error:0.099183\tvalidation_1-logloss:0.274177\n",
      "[72]\tvalidation_0-error:0.096971\tvalidation_0-logloss:0.25774\tvalidation_1-error:0.09925\tvalidation_1-logloss:0.273654\n",
      "[73]\tvalidation_0-error:0.096864\tvalidation_0-logloss:0.257102\tvalidation_1-error:0.09915\tvalidation_1-logloss:0.273149\n",
      "[74]\tvalidation_0-error:0.096764\tvalidation_0-logloss:0.256408\tvalidation_1-error:0.099067\tvalidation_1-logloss:0.272676\n",
      "[75]\tvalidation_0-error:0.096664\tvalidation_0-logloss:0.255758\tvalidation_1-error:0.098933\tvalidation_1-logloss:0.272208\n",
      "[76]\tvalidation_0-error:0.096564\tvalidation_0-logloss:0.255134\tvalidation_1-error:0.098883\tvalidation_1-logloss:0.271701\n",
      "[77]\tvalidation_0-error:0.09645\tvalidation_0-logloss:0.254454\tvalidation_1-error:0.098767\tvalidation_1-logloss:0.271243\n",
      "[78]\tvalidation_0-error:0.096321\tvalidation_0-logloss:0.253827\tvalidation_1-error:0.09875\tvalidation_1-logloss:0.270771\n",
      "[79]\tvalidation_0-error:0.096143\tvalidation_0-logloss:0.253225\tvalidation_1-error:0.098667\tvalidation_1-logloss:0.270346\n",
      "[80]\tvalidation_0-error:0.09615\tvalidation_0-logloss:0.252557\tvalidation_1-error:0.098633\tvalidation_1-logloss:0.269878\n",
      "[81]\tvalidation_0-error:0.095993\tvalidation_0-logloss:0.251966\tvalidation_1-error:0.098633\tvalidation_1-logloss:0.269449\n",
      "[82]\tvalidation_0-error:0.095814\tvalidation_0-logloss:0.251362\tvalidation_1-error:0.098517\tvalidation_1-logloss:0.269027\n",
      "[83]\tvalidation_0-error:0.095714\tvalidation_0-logloss:0.250813\tvalidation_1-error:0.0984\tvalidation_1-logloss:0.268582\n",
      "[84]\tvalidation_0-error:0.095536\tvalidation_0-logloss:0.250237\tvalidation_1-error:0.098383\tvalidation_1-logloss:0.26813\n",
      "[85]\tvalidation_0-error:0.095429\tvalidation_0-logloss:0.249682\tvalidation_1-error:0.098367\tvalidation_1-logloss:0.267736\n",
      "[86]\tvalidation_0-error:0.095271\tvalidation_0-logloss:0.249121\tvalidation_1-error:0.098233\tvalidation_1-logloss:0.267297\n",
      "[87]\tvalidation_0-error:0.095129\tvalidation_0-logloss:0.248562\tvalidation_1-error:0.098233\tvalidation_1-logloss:0.26691\n",
      "[88]\tvalidation_0-error:0.094943\tvalidation_0-logloss:0.248008\tvalidation_1-error:0.098167\tvalidation_1-logloss:0.266544\n",
      "[89]\tvalidation_0-error:0.094829\tvalidation_0-logloss:0.247453\tvalidation_1-error:0.097983\tvalidation_1-logloss:0.266141\n",
      "[90]\tvalidation_0-error:0.094671\tvalidation_0-logloss:0.246909\tvalidation_1-error:0.097983\tvalidation_1-logloss:0.265835\n",
      "[91]\tvalidation_0-error:0.094571\tvalidation_0-logloss:0.246361\tvalidation_1-error:0.098\tvalidation_1-logloss:0.265457\n",
      "[92]\tvalidation_0-error:0.094471\tvalidation_0-logloss:0.245804\tvalidation_1-error:0.098033\tvalidation_1-logloss:0.265126\n",
      "[93]\tvalidation_0-error:0.094314\tvalidation_0-logloss:0.245258\tvalidation_1-error:0.0979\tvalidation_1-logloss:0.264814\n",
      "[94]\tvalidation_0-error:0.094157\tvalidation_0-logloss:0.244724\tvalidation_1-error:0.09775\tvalidation_1-logloss:0.264439\n",
      "[95]\tvalidation_0-error:0.094043\tvalidation_0-logloss:0.244142\tvalidation_1-error:0.097667\tvalidation_1-logloss:0.264055\n",
      "[96]\tvalidation_0-error:0.093779\tvalidation_0-logloss:0.243638\tvalidation_1-error:0.097667\tvalidation_1-logloss:0.26369\n",
      "[97]\tvalidation_0-error:0.093557\tvalidation_0-logloss:0.243112\tvalidation_1-error:0.097533\tvalidation_1-logloss:0.263364\n",
      "[98]\tvalidation_0-error:0.093486\tvalidation_0-logloss:0.242573\tvalidation_1-error:0.0974\tvalidation_1-logloss:0.262981\n",
      "[99]\tvalidation_0-error:0.093321\tvalidation_0-logloss:0.242076\tvalidation_1-error:0.09735\tvalidation_1-logloss:0.26259\n",
      "[100]\tvalidation_0-error:0.093179\tvalidation_0-logloss:0.241591\tvalidation_1-error:0.09725\tvalidation_1-logloss:0.262177\n",
      "[101]\tvalidation_0-error:0.092921\tvalidation_0-logloss:0.241085\tvalidation_1-error:0.09725\tvalidation_1-logloss:0.261836\n",
      "[102]\tvalidation_0-error:0.0928\tvalidation_0-logloss:0.240587\tvalidation_1-error:0.097217\tvalidation_1-logloss:0.261545\n",
      "[103]\tvalidation_0-error:0.092657\tvalidation_0-logloss:0.240094\tvalidation_1-error:0.097167\tvalidation_1-logloss:0.261256\n",
      "[104]\tvalidation_0-error:0.092543\tvalidation_0-logloss:0.239596\tvalidation_1-error:0.0969\tvalidation_1-logloss:0.260924\n",
      "[105]\tvalidation_0-error:0.092379\tvalidation_0-logloss:0.239111\tvalidation_1-error:0.0969\tvalidation_1-logloss:0.260487\n",
      "[106]\tvalidation_0-error:0.092207\tvalidation_0-logloss:0.238587\tvalidation_1-error:0.09685\tvalidation_1-logloss:0.260128\n",
      "[107]\tvalidation_0-error:0.092029\tvalidation_0-logloss:0.238098\tvalidation_1-error:0.09675\tvalidation_1-logloss:0.259759\n",
      "[108]\tvalidation_0-error:0.091871\tvalidation_0-logloss:0.237607\tvalidation_1-error:0.096617\tvalidation_1-logloss:0.259447\n",
      "[109]\tvalidation_0-error:0.091729\tvalidation_0-logloss:0.23715\tvalidation_1-error:0.09655\tvalidation_1-logloss:0.259108\n",
      "[110]\tvalidation_0-error:0.091464\tvalidation_0-logloss:0.236709\tvalidation_1-error:0.096417\tvalidation_1-logloss:0.258816\n",
      "[111]\tvalidation_0-error:0.091336\tvalidation_0-logloss:0.236244\tvalidation_1-error:0.096333\tvalidation_1-logloss:0.258543\n",
      "[112]\tvalidation_0-error:0.091243\tvalidation_0-logloss:0.235769\tvalidation_1-error:0.0963\tvalidation_1-logloss:0.258234\n",
      "[113]\tvalidation_0-error:0.091136\tvalidation_0-logloss:0.235337\tvalidation_1-error:0.096183\tvalidation_1-logloss:0.257941\n",
      "[114]\tvalidation_0-error:0.091057\tvalidation_0-logloss:0.234894\tvalidation_1-error:0.0961\tvalidation_1-logloss:0.257609\n",
      "[115]\tvalidation_0-error:0.090936\tvalidation_0-logloss:0.234419\tvalidation_1-error:0.095933\tvalidation_1-logloss:0.257287\n",
      "[116]\tvalidation_0-error:0.090714\tvalidation_0-logloss:0.233965\tvalidation_1-error:0.095883\tvalidation_1-logloss:0.256952\n",
      "[117]\tvalidation_0-error:0.090586\tvalidation_0-logloss:0.233523\tvalidation_1-error:0.095817\tvalidation_1-logloss:0.256707\n",
      "[118]\tvalidation_0-error:0.090479\tvalidation_0-logloss:0.2331\tvalidation_1-error:0.095783\tvalidation_1-logloss:0.256436\n",
      "[119]\tvalidation_0-error:0.090314\tvalidation_0-logloss:0.232644\tvalidation_1-error:0.095583\tvalidation_1-logloss:0.256121\n",
      "[120]\tvalidation_0-error:0.090114\tvalidation_0-logloss:0.232211\tvalidation_1-error:0.095517\tvalidation_1-logloss:0.255861\n",
      "[121]\tvalidation_0-error:0.090036\tvalidation_0-logloss:0.23179\tvalidation_1-error:0.095517\tvalidation_1-logloss:0.255531\n",
      "[122]\tvalidation_0-error:0.089857\tvalidation_0-logloss:0.231351\tvalidation_1-error:0.095383\tvalidation_1-logloss:0.255241\n",
      "[123]\tvalidation_0-error:0.089636\tvalidation_0-logloss:0.2309\tvalidation_1-error:0.095233\tvalidation_1-logloss:0.254975\n",
      "[124]\tvalidation_0-error:0.089493\tvalidation_0-logloss:0.230472\tvalidation_1-error:0.095183\tvalidation_1-logloss:0.254685\n",
      "[125]\tvalidation_0-error:0.089343\tvalidation_0-logloss:0.230041\tvalidation_1-error:0.095183\tvalidation_1-logloss:0.254346\n",
      "[126]\tvalidation_0-error:0.089271\tvalidation_0-logloss:0.229633\tvalidation_1-error:0.095133\tvalidation_1-logloss:0.254091\n",
      "[127]\tvalidation_0-error:0.08915\tvalidation_0-logloss:0.229195\tvalidation_1-error:0.095117\tvalidation_1-logloss:0.253813\n",
      "[128]\tvalidation_0-error:0.088864\tvalidation_0-logloss:0.228778\tvalidation_1-error:0.095\tvalidation_1-logloss:0.253522\n",
      "[129]\tvalidation_0-error:0.088736\tvalidation_0-logloss:0.228378\tvalidation_1-error:0.094833\tvalidation_1-logloss:0.253314\n",
      "[130]\tvalidation_0-error:0.088721\tvalidation_0-logloss:0.227952\tvalidation_1-error:0.09475\tvalidation_1-logloss:0.253047\n",
      "[131]\tvalidation_0-error:0.088514\tvalidation_0-logloss:0.227567\tvalidation_1-error:0.094683\tvalidation_1-logloss:0.252792\n",
      "[132]\tvalidation_0-error:0.08835\tvalidation_0-logloss:0.227167\tvalidation_1-error:0.094583\tvalidation_1-logloss:0.252502\n",
      "[133]\tvalidation_0-error:0.088214\tvalidation_0-logloss:0.226752\tvalidation_1-error:0.0944\tvalidation_1-logloss:0.25222\n",
      "[134]\tvalidation_0-error:0.088057\tvalidation_0-logloss:0.22635\tvalidation_1-error:0.0943\tvalidation_1-logloss:0.251961\n"
     ]
    },
    {
     "name": "stdout",
     "output_type": "stream",
     "text": [
      "[135]\tvalidation_0-error:0.087886\tvalidation_0-logloss:0.225997\tvalidation_1-error:0.0943\tvalidation_1-logloss:0.25177\n",
      "[136]\tvalidation_0-error:0.087793\tvalidation_0-logloss:0.225591\tvalidation_1-error:0.09425\tvalidation_1-logloss:0.251543\n",
      "[137]\tvalidation_0-error:0.087614\tvalidation_0-logloss:0.225214\tvalidation_1-error:0.094067\tvalidation_1-logloss:0.251264\n",
      "[138]\tvalidation_0-error:0.087493\tvalidation_0-logloss:0.224839\tvalidation_1-error:0.093933\tvalidation_1-logloss:0.25106\n",
      "[139]\tvalidation_0-error:0.08735\tvalidation_0-logloss:0.224467\tvalidation_1-error:0.09405\tvalidation_1-logloss:0.250817\n",
      "[140]\tvalidation_0-error:0.08715\tvalidation_0-logloss:0.22408\tvalidation_1-error:0.09395\tvalidation_1-logloss:0.250587\n",
      "[141]\tvalidation_0-error:0.087036\tvalidation_0-logloss:0.223679\tvalidation_1-error:0.093767\tvalidation_1-logloss:0.250319\n",
      "[142]\tvalidation_0-error:0.086836\tvalidation_0-logloss:0.223278\tvalidation_1-error:0.093717\tvalidation_1-logloss:0.250073\n",
      "[143]\tvalidation_0-error:0.086786\tvalidation_0-logloss:0.222904\tvalidation_1-error:0.093617\tvalidation_1-logloss:0.249818\n",
      "[144]\tvalidation_0-error:0.086721\tvalidation_0-logloss:0.222546\tvalidation_1-error:0.093617\tvalidation_1-logloss:0.249618\n",
      "[145]\tvalidation_0-error:0.086607\tvalidation_0-logloss:0.222211\tvalidation_1-error:0.093483\tvalidation_1-logloss:0.249325\n",
      "[146]\tvalidation_0-error:0.086407\tvalidation_0-logloss:0.221851\tvalidation_1-error:0.09335\tvalidation_1-logloss:0.249102\n",
      "[147]\tvalidation_0-error:0.086264\tvalidation_0-logloss:0.22149\tvalidation_1-error:0.093217\tvalidation_1-logloss:0.248915\n",
      "[148]\tvalidation_0-error:0.085971\tvalidation_0-logloss:0.221154\tvalidation_1-error:0.0931\tvalidation_1-logloss:0.248737\n",
      "[149]\tvalidation_0-error:0.0859\tvalidation_0-logloss:0.220766\tvalidation_1-error:0.093\tvalidation_1-logloss:0.248475\n",
      "[150]\tvalidation_0-error:0.0858\tvalidation_0-logloss:0.220433\tvalidation_1-error:0.093017\tvalidation_1-logloss:0.248237\n",
      "[151]\tvalidation_0-error:0.085729\tvalidation_0-logloss:0.220101\tvalidation_1-error:0.0929\tvalidation_1-logloss:0.248004\n",
      "[152]\tvalidation_0-error:0.085514\tvalidation_0-logloss:0.219759\tvalidation_1-error:0.092817\tvalidation_1-logloss:0.247793\n",
      "[153]\tvalidation_0-error:0.085279\tvalidation_0-logloss:0.219418\tvalidation_1-error:0.092683\tvalidation_1-logloss:0.247564\n",
      "[154]\tvalidation_0-error:0.085279\tvalidation_0-logloss:0.219086\tvalidation_1-error:0.0926\tvalidation_1-logloss:0.2473\n",
      "[155]\tvalidation_0-error:0.085186\tvalidation_0-logloss:0.218732\tvalidation_1-error:0.092483\tvalidation_1-logloss:0.24709\n",
      "[156]\tvalidation_0-error:0.085086\tvalidation_0-logloss:0.218354\tvalidation_1-error:0.092383\tvalidation_1-logloss:0.246836\n",
      "[157]\tvalidation_0-error:0.08485\tvalidation_0-logloss:0.21801\tvalidation_1-error:0.092333\tvalidation_1-logloss:0.246595\n",
      "[158]\tvalidation_0-error:0.08475\tvalidation_0-logloss:0.21768\tvalidation_1-error:0.092283\tvalidation_1-logloss:0.246371\n",
      "[159]\tvalidation_0-error:0.084571\tvalidation_0-logloss:0.217283\tvalidation_1-error:0.092283\tvalidation_1-logloss:0.246121\n",
      "[160]\tvalidation_0-error:0.084436\tvalidation_0-logloss:0.216984\tvalidation_1-error:0.092167\tvalidation_1-logloss:0.245928\n",
      "[161]\tvalidation_0-error:0.08435\tvalidation_0-logloss:0.216696\tvalidation_1-error:0.092117\tvalidation_1-logloss:0.245732\n",
      "[162]\tvalidation_0-error:0.084164\tvalidation_0-logloss:0.216376\tvalidation_1-error:0.09205\tvalidation_1-logloss:0.245566\n",
      "[163]\tvalidation_0-error:0.083993\tvalidation_0-logloss:0.216049\tvalidation_1-error:0.092\tvalidation_1-logloss:0.245365\n",
      "[164]\tvalidation_0-error:0.083864\tvalidation_0-logloss:0.215691\tvalidation_1-error:0.092017\tvalidation_1-logloss:0.245216\n",
      "[165]\tvalidation_0-error:0.083707\tvalidation_0-logloss:0.215404\tvalidation_1-error:0.091933\tvalidation_1-logloss:0.244997\n",
      "[166]\tvalidation_0-error:0.08345\tvalidation_0-logloss:0.215061\tvalidation_1-error:0.091933\tvalidation_1-logloss:0.244746\n",
      "[167]\tvalidation_0-error:0.083307\tvalidation_0-logloss:0.214751\tvalidation_1-error:0.091917\tvalidation_1-logloss:0.244598\n",
      "[168]\tvalidation_0-error:0.083186\tvalidation_0-logloss:0.214432\tvalidation_1-error:0.091917\tvalidation_1-logloss:0.244414\n",
      "[169]\tvalidation_0-error:0.083136\tvalidation_0-logloss:0.214089\tvalidation_1-error:0.09185\tvalidation_1-logloss:0.244251\n",
      "[170]\tvalidation_0-error:0.082929\tvalidation_0-logloss:0.213794\tvalidation_1-error:0.091767\tvalidation_1-logloss:0.244055\n",
      "[171]\tvalidation_0-error:0.082679\tvalidation_0-logloss:0.213453\tvalidation_1-error:0.091783\tvalidation_1-logloss:0.243834\n",
      "[172]\tvalidation_0-error:0.082536\tvalidation_0-logloss:0.213149\tvalidation_1-error:0.091783\tvalidation_1-logloss:0.243656\n",
      "[173]\tvalidation_0-error:0.082364\tvalidation_0-logloss:0.212825\tvalidation_1-error:0.0917\tvalidation_1-logloss:0.24345\n",
      "[174]\tvalidation_0-error:0.082371\tvalidation_0-logloss:0.212511\tvalidation_1-error:0.0917\tvalidation_1-logloss:0.243287\n",
      "[175]\tvalidation_0-error:0.082264\tvalidation_0-logloss:0.212207\tvalidation_1-error:0.091517\tvalidation_1-logloss:0.243097\n",
      "[176]\tvalidation_0-error:0.082057\tvalidation_0-logloss:0.211892\tvalidation_1-error:0.091433\tvalidation_1-logloss:0.242936\n",
      "[177]\tvalidation_0-error:0.081929\tvalidation_0-logloss:0.21154\tvalidation_1-error:0.091383\tvalidation_1-logloss:0.242732\n",
      "[178]\tvalidation_0-error:0.081779\tvalidation_0-logloss:0.211228\tvalidation_1-error:0.091283\tvalidation_1-logloss:0.242485\n",
      "[179]\tvalidation_0-error:0.081664\tvalidation_0-logloss:0.210899\tvalidation_1-error:0.09125\tvalidation_1-logloss:0.242269\n",
      "[180]\tvalidation_0-error:0.081586\tvalidation_0-logloss:0.210586\tvalidation_1-error:0.0912\tvalidation_1-logloss:0.242085\n",
      "[181]\tvalidation_0-error:0.081464\tvalidation_0-logloss:0.210296\tvalidation_1-error:0.091133\tvalidation_1-logloss:0.241913\n",
      "[182]\tvalidation_0-error:0.0814\tvalidation_0-logloss:0.209987\tvalidation_1-error:0.091067\tvalidation_1-logloss:0.241721\n",
      "[183]\tvalidation_0-error:0.0812\tvalidation_0-logloss:0.209688\tvalidation_1-error:0.09105\tvalidation_1-logloss:0.241531\n",
      "[184]\tvalidation_0-error:0.081143\tvalidation_0-logloss:0.209388\tvalidation_1-error:0.090967\tvalidation_1-logloss:0.241358\n",
      "[185]\tvalidation_0-error:0.081\tvalidation_0-logloss:0.209127\tvalidation_1-error:0.091033\tvalidation_1-logloss:0.241216\n",
      "[186]\tvalidation_0-error:0.080843\tvalidation_0-logloss:0.208849\tvalidation_1-error:0.090933\tvalidation_1-logloss:0.241048\n",
      "[187]\tvalidation_0-error:0.08075\tvalidation_0-logloss:0.208541\tvalidation_1-error:0.09085\tvalidation_1-logloss:0.240832\n",
      "[188]\tvalidation_0-error:0.080586\tvalidation_0-logloss:0.208243\tvalidation_1-error:0.090833\tvalidation_1-logloss:0.240667\n",
      "[189]\tvalidation_0-error:0.080486\tvalidation_0-logloss:0.207975\tvalidation_1-error:0.090767\tvalidation_1-logloss:0.240459\n",
      "[190]\tvalidation_0-error:0.0803\tvalidation_0-logloss:0.207673\tvalidation_1-error:0.0906\tvalidation_1-logloss:0.240296\n",
      "[191]\tvalidation_0-error:0.080157\tvalidation_0-logloss:0.207362\tvalidation_1-error:0.09045\tvalidation_1-logloss:0.240131\n",
      "[192]\tvalidation_0-error:0.080036\tvalidation_0-logloss:0.207062\tvalidation_1-error:0.090433\tvalidation_1-logloss:0.239981\n",
      "[193]\tvalidation_0-error:0.079779\tvalidation_0-logloss:0.206772\tvalidation_1-error:0.0903\tvalidation_1-logloss:0.239822\n",
      "[194]\tvalidation_0-error:0.079721\tvalidation_0-logloss:0.206474\tvalidation_1-error:0.090333\tvalidation_1-logloss:0.239637\n",
      "[195]\tvalidation_0-error:0.079529\tvalidation_0-logloss:0.206186\tvalidation_1-error:0.09025\tvalidation_1-logloss:0.239454\n",
      "[196]\tvalidation_0-error:0.079436\tvalidation_0-logloss:0.205923\tvalidation_1-error:0.090067\tvalidation_1-logloss:0.239314\n",
      "[197]\tvalidation_0-error:0.079336\tvalidation_0-logloss:0.205635\tvalidation_1-error:0.090283\tvalidation_1-logloss:0.23918\n",
      "[198]\tvalidation_0-error:0.079314\tvalidation_0-logloss:0.205378\tvalidation_1-error:0.090167\tvalidation_1-logloss:0.239012\n",
      "[199]\tvalidation_0-error:0.079107\tvalidation_0-logloss:0.205112\tvalidation_1-error:0.090083\tvalidation_1-logloss:0.238853\n"
     ]
    }
   ],
   "source": [
    "model = xgb.XGBClassifier(max_depth=4,\n",
    "                        subsample=0.9,\n",
    "                        objective='binary:logistic',\n",
    "                        n_estimators=200,\n",
    "                        learning_rate = 0.1)\n",
    "eval_set = [(x_train, y_train), (x_test, y_test)]\n",
    "model.fit(x_train, y_train, early_stopping_rounds=10, eval_metric=[\"error\", \"logloss\"], eval_set=eval_set, verbose=True);"
   ]
  },
  {
   "cell_type": "code",
   "execution_count": 12,
   "metadata": {},
   "outputs": [],
   "source": [
    "y_pred = model.predict(x_test)\n",
    "predictions = [round(value) for value in y_pred]"
   ]
  },
  {
   "cell_type": "code",
   "execution_count": 14,
   "metadata": {},
   "outputs": [
    {
     "name": "stdout",
     "output_type": "stream",
     "text": [
      "Accuracy: 90.99%\n"
     ]
    }
   ],
   "source": [
    "from sklearn.metrics import accuracy_score\n",
    "accuracy = accuracy_score(y_test, predictions)\n",
    "print(\"Accuracy: %.2f%%\" % (accuracy * 100.0))"
   ]
  },
  {
   "cell_type": "code",
   "execution_count": 15,
   "metadata": {},
   "outputs": [
    {
     "name": "stdout",
     "output_type": "stream",
     "text": [
      "0.5635230269324877\n"
     ]
    }
   ],
   "source": [
    "from sklearn import metrics\n",
    "\n",
    "print(metrics.roc_auc_score(y_test, y_pred))"
   ]
  },
  {
   "cell_type": "code",
   "execution_count": null,
   "metadata": {},
   "outputs": [],
   "source": []
  }
 ],
 "metadata": {
  "kernelspec": {
   "display_name": "Python 3",
   "language": "python",
   "name": "python3"
  },
  "language_info": {
   "codemirror_mode": {
    "name": "ipython",
    "version": 3
   },
   "file_extension": ".py",
   "mimetype": "text/x-python",
   "name": "python",
   "nbconvert_exporter": "python",
   "pygments_lexer": "ipython3",
   "version": "3.7.1"
  }
 },
 "nbformat": 4,
 "nbformat_minor": 2
}

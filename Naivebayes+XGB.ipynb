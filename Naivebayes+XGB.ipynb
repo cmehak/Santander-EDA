{
 "cells": [
  {
   "cell_type": "code",
   "execution_count": 1,
   "metadata": {},
   "outputs": [],
   "source": [
    "import pandas as pd\n",
    "import numpy as np\n",
    "from sklearn import preprocessing\n",
    "import matplotlib.pyplot as plt \n",
    "plt.rc(\"font\", size=14)\n",
    "from sklearn.svm import SVC\n",
    "from sklearn.model_selection import train_test_split\n",
    "import seaborn as sns\n",
    "sns.set(style=\"white\")\n",
    "sns.set(style=\"whitegrid\", color_codes=True)"
   ]
  },
  {
   "cell_type": "code",
   "execution_count": 2,
   "metadata": {},
   "outputs": [],
   "source": [
    "df=pd.read_csv(r\"C:\\Users\\yash3.goyal\\Desktop\\train.csv\")"
   ]
  },
  {
   "cell_type": "code",
   "execution_count": 3,
   "metadata": {},
   "outputs": [],
   "source": [
    "x=df.drop(['ID_code','target'],axis=1)\n",
    "y=df.target"
   ]
  },
  {
   "cell_type": "code",
   "execution_count": 4,
   "metadata": {},
   "outputs": [],
   "source": [
    "x_train, x_test, y_train, y_test = train_test_split(x, y,test_size=0.3, stratify=y)"
   ]
  },
  {
   "cell_type": "code",
   "execution_count": 5,
   "metadata": {},
   "outputs": [],
   "source": [
    "import xgboost as xgb"
   ]
  },
  {
   "cell_type": "code",
   "execution_count": 6,
   "metadata": {},
   "outputs": [
    {
     "name": "stdout",
     "output_type": "stream",
     "text": [
      "[0]\tvalidation_0-error:0.100093\tvalidation_0-logloss:0.630794\tvalidation_1-error:0.100617\tvalidation_1-logloss:0.631597\n",
      "Multiple eval metrics have been passed: 'validation_1-logloss' will be used for early stopping.\n",
      "\n",
      "Will train until validation_1-logloss hasn't improved in 10 rounds.\n",
      "[1]\tvalidation_0-error:0.100179\tvalidation_0-logloss:0.58072\tvalidation_1-error:0.100467\tvalidation_1-logloss:0.581362\n",
      "[2]\tvalidation_0-error:0.100214\tvalidation_0-logloss:0.538973\tvalidation_1-error:0.100433\tvalidation_1-logloss:0.539543\n",
      "[3]\tvalidation_0-error:0.100386\tvalidation_0-logloss:0.504563\tvalidation_1-error:0.1004\tvalidation_1-logloss:0.504687\n",
      "[4]\tvalidation_0-error:0.100407\tvalidation_0-logloss:0.474945\tvalidation_1-error:0.100483\tvalidation_1-logloss:0.475584\n",
      "[5]\tvalidation_0-error:0.100421\tvalidation_0-logloss:0.450303\tvalidation_1-error:0.100467\tvalidation_1-logloss:0.45078\n",
      "[6]\tvalidation_0-error:0.100436\tvalidation_0-logloss:0.428837\tvalidation_1-error:0.100483\tvalidation_1-logloss:0.429884\n",
      "[7]\tvalidation_0-error:0.10045\tvalidation_0-logloss:0.410838\tvalidation_1-error:0.1005\tvalidation_1-logloss:0.411885\n",
      "[8]\tvalidation_0-error:0.10045\tvalidation_0-logloss:0.395495\tvalidation_1-error:0.100483\tvalidation_1-logloss:0.396708\n",
      "[9]\tvalidation_0-error:0.100457\tvalidation_0-logloss:0.382148\tvalidation_1-error:0.100467\tvalidation_1-logloss:0.383641\n",
      "[10]\tvalidation_0-error:0.100471\tvalidation_0-logloss:0.370879\tvalidation_1-error:0.100467\tvalidation_1-logloss:0.372443\n",
      "[11]\tvalidation_0-error:0.100464\tvalidation_0-logloss:0.361149\tvalidation_1-error:0.100467\tvalidation_1-logloss:0.36275\n",
      "[12]\tvalidation_0-error:0.100464\tvalidation_0-logloss:0.352637\tvalidation_1-error:0.100467\tvalidation_1-logloss:0.354525\n",
      "[13]\tvalidation_0-error:0.100464\tvalidation_0-logloss:0.345286\tvalidation_1-error:0.100467\tvalidation_1-logloss:0.347274\n",
      "[14]\tvalidation_0-error:0.100464\tvalidation_0-logloss:0.338954\tvalidation_1-error:0.100467\tvalidation_1-logloss:0.341021\n",
      "[15]\tvalidation_0-error:0.10045\tvalidation_0-logloss:0.333335\tvalidation_1-error:0.100467\tvalidation_1-logloss:0.335673\n",
      "[16]\tvalidation_0-error:0.100436\tvalidation_0-logloss:0.328344\tvalidation_1-error:0.10045\tvalidation_1-logloss:0.33106\n",
      "[17]\tvalidation_0-error:0.100443\tvalidation_0-logloss:0.324146\tvalidation_1-error:0.10045\tvalidation_1-logloss:0.327023\n",
      "[18]\tvalidation_0-error:0.100443\tvalidation_0-logloss:0.320377\tvalidation_1-error:0.100433\tvalidation_1-logloss:0.323429\n",
      "[19]\tvalidation_0-error:0.100457\tvalidation_0-logloss:0.316947\tvalidation_1-error:0.100467\tvalidation_1-logloss:0.320272\n",
      "[20]\tvalidation_0-error:0.100443\tvalidation_0-logloss:0.313999\tvalidation_1-error:0.100467\tvalidation_1-logloss:0.317381\n",
      "[21]\tvalidation_0-error:0.100429\tvalidation_0-logloss:0.311253\tvalidation_1-error:0.100467\tvalidation_1-logloss:0.314863\n",
      "[22]\tvalidation_0-error:0.100429\tvalidation_0-logloss:0.308747\tvalidation_1-error:0.100467\tvalidation_1-logloss:0.312661\n",
      "[23]\tvalidation_0-error:0.100414\tvalidation_0-logloss:0.30653\tvalidation_1-error:0.10045\tvalidation_1-logloss:0.310677\n",
      "[24]\tvalidation_0-error:0.100407\tvalidation_0-logloss:0.304522\tvalidation_1-error:0.10045\tvalidation_1-logloss:0.308935\n",
      "[25]\tvalidation_0-error:0.1004\tvalidation_0-logloss:0.302645\tvalidation_1-error:0.10045\tvalidation_1-logloss:0.307277\n",
      "[26]\tvalidation_0-error:0.100386\tvalidation_0-logloss:0.300919\tvalidation_1-error:0.10045\tvalidation_1-logloss:0.305748\n",
      "[27]\tvalidation_0-error:0.100371\tvalidation_0-logloss:0.299269\tvalidation_1-error:0.100433\tvalidation_1-logloss:0.304363\n",
      "[28]\tvalidation_0-error:0.100371\tvalidation_0-logloss:0.297709\tvalidation_1-error:0.100433\tvalidation_1-logloss:0.303057\n",
      "[29]\tvalidation_0-error:0.100357\tvalidation_0-logloss:0.296253\tvalidation_1-error:0.100433\tvalidation_1-logloss:0.30192\n",
      "[30]\tvalidation_0-error:0.100329\tvalidation_0-logloss:0.294896\tvalidation_1-error:0.1004\tvalidation_1-logloss:0.300791\n",
      "[31]\tvalidation_0-error:0.100321\tvalidation_0-logloss:0.293583\tvalidation_1-error:0.100417\tvalidation_1-logloss:0.29976\n",
      "[32]\tvalidation_0-error:0.100271\tvalidation_0-logloss:0.292374\tvalidation_1-error:0.1004\tvalidation_1-logloss:0.298651\n",
      "[33]\tvalidation_0-error:0.10025\tvalidation_0-logloss:0.291155\tvalidation_1-error:0.1004\tvalidation_1-logloss:0.297714\n",
      "[34]\tvalidation_0-error:0.100207\tvalidation_0-logloss:0.289965\tvalidation_1-error:0.100383\tvalidation_1-logloss:0.296755\n",
      "[35]\tvalidation_0-error:0.100193\tvalidation_0-logloss:0.288802\tvalidation_1-error:0.10035\tvalidation_1-logloss:0.295856\n",
      "[36]\tvalidation_0-error:0.100164\tvalidation_0-logloss:0.28772\tvalidation_1-error:0.10035\tvalidation_1-logloss:0.295048\n",
      "[37]\tvalidation_0-error:0.100121\tvalidation_0-logloss:0.286605\tvalidation_1-error:0.10035\tvalidation_1-logloss:0.294256\n",
      "[38]\tvalidation_0-error:0.100071\tvalidation_0-logloss:0.285526\tvalidation_1-error:0.100333\tvalidation_1-logloss:0.293425\n",
      "[39]\tvalidation_0-error:0.10005\tvalidation_0-logloss:0.284481\tvalidation_1-error:0.100333\tvalidation_1-logloss:0.292619\n",
      "[40]\tvalidation_0-error:0.100029\tvalidation_0-logloss:0.283509\tvalidation_1-error:0.1003\tvalidation_1-logloss:0.291923\n",
      "[41]\tvalidation_0-error:0.099979\tvalidation_0-logloss:0.282529\tvalidation_1-error:0.100267\tvalidation_1-logloss:0.291153\n",
      "[42]\tvalidation_0-error:0.099921\tvalidation_0-logloss:0.281489\tvalidation_1-error:0.100283\tvalidation_1-logloss:0.290286\n",
      "[43]\tvalidation_0-error:0.099879\tvalidation_0-logloss:0.2805\tvalidation_1-error:0.100217\tvalidation_1-logloss:0.289607\n",
      "[44]\tvalidation_0-error:0.099807\tvalidation_0-logloss:0.279613\tvalidation_1-error:0.1002\tvalidation_1-logloss:0.288823\n",
      "[45]\tvalidation_0-error:0.099729\tvalidation_0-logloss:0.278682\tvalidation_1-error:0.100167\tvalidation_1-logloss:0.28817\n",
      "[46]\tvalidation_0-error:0.099686\tvalidation_0-logloss:0.277736\tvalidation_1-error:0.100083\tvalidation_1-logloss:0.287433\n",
      "[47]\tvalidation_0-error:0.09965\tvalidation_0-logloss:0.276792\tvalidation_1-error:0.10005\tvalidation_1-logloss:0.28672\n",
      "[48]\tvalidation_0-error:0.099521\tvalidation_0-logloss:0.275876\tvalidation_1-error:0.10005\tvalidation_1-logloss:0.286064\n",
      "[49]\tvalidation_0-error:0.099421\tvalidation_0-logloss:0.274989\tvalidation_1-error:0.10005\tvalidation_1-logloss:0.285436\n",
      "[50]\tvalidation_0-error:0.099386\tvalidation_0-logloss:0.274161\tvalidation_1-error:0.100033\tvalidation_1-logloss:0.284747\n",
      "[51]\tvalidation_0-error:0.099264\tvalidation_0-logloss:0.273301\tvalidation_1-error:0.099983\tvalidation_1-logloss:0.284068\n",
      "[52]\tvalidation_0-error:0.099229\tvalidation_0-logloss:0.272456\tvalidation_1-error:0.099967\tvalidation_1-logloss:0.283492\n",
      "[53]\tvalidation_0-error:0.099193\tvalidation_0-logloss:0.27162\tvalidation_1-error:0.099967\tvalidation_1-logloss:0.282866\n",
      "[54]\tvalidation_0-error:0.099129\tvalidation_0-logloss:0.27082\tvalidation_1-error:0.099883\tvalidation_1-logloss:0.282256\n",
      "[55]\tvalidation_0-error:0.099007\tvalidation_0-logloss:0.269956\tvalidation_1-error:0.0998\tvalidation_1-logloss:0.281598\n",
      "[56]\tvalidation_0-error:0.098921\tvalidation_0-logloss:0.26914\tvalidation_1-error:0.0998\tvalidation_1-logloss:0.281066\n",
      "[57]\tvalidation_0-error:0.098821\tvalidation_0-logloss:0.268314\tvalidation_1-error:0.0998\tvalidation_1-logloss:0.280378\n",
      "[58]\tvalidation_0-error:0.098679\tvalidation_0-logloss:0.267534\tvalidation_1-error:0.099767\tvalidation_1-logloss:0.279734\n",
      "[59]\tvalidation_0-error:0.098607\tvalidation_0-logloss:0.266778\tvalidation_1-error:0.099717\tvalidation_1-logloss:0.279143\n",
      "[60]\tvalidation_0-error:0.098514\tvalidation_0-logloss:0.266026\tvalidation_1-error:0.0997\tvalidation_1-logloss:0.278612\n",
      "[61]\tvalidation_0-error:0.098471\tvalidation_0-logloss:0.265257\tvalidation_1-error:0.099717\tvalidation_1-logloss:0.278071\n",
      "[62]\tvalidation_0-error:0.098364\tvalidation_0-logloss:0.264498\tvalidation_1-error:0.099683\tvalidation_1-logloss:0.277502\n",
      "[63]\tvalidation_0-error:0.0983\tvalidation_0-logloss:0.263754\tvalidation_1-error:0.099633\tvalidation_1-logloss:0.277032\n",
      "[64]\tvalidation_0-error:0.098243\tvalidation_0-logloss:0.263071\tvalidation_1-error:0.099567\tvalidation_1-logloss:0.27658\n",
      "[65]\tvalidation_0-error:0.098157\tvalidation_0-logloss:0.262351\tvalidation_1-error:0.099467\tvalidation_1-logloss:0.276052\n",
      "[66]\tvalidation_0-error:0.097943\tvalidation_0-logloss:0.261667\tvalidation_1-error:0.099433\tvalidation_1-logloss:0.275527\n"
     ]
    },
    {
     "name": "stdout",
     "output_type": "stream",
     "text": [
      "[67]\tvalidation_0-error:0.097807\tvalidation_0-logloss:0.260919\tvalidation_1-error:0.09935\tvalidation_1-logloss:0.274996\n",
      "[68]\tvalidation_0-error:0.097714\tvalidation_0-logloss:0.260194\tvalidation_1-error:0.099283\tvalidation_1-logloss:0.274479\n",
      "[69]\tvalidation_0-error:0.097571\tvalidation_0-logloss:0.259582\tvalidation_1-error:0.099233\tvalidation_1-logloss:0.274017\n",
      "[70]\tvalidation_0-error:0.097443\tvalidation_0-logloss:0.25892\tvalidation_1-error:0.099217\tvalidation_1-logloss:0.27352\n",
      "[71]\tvalidation_0-error:0.097357\tvalidation_0-logloss:0.258255\tvalidation_1-error:0.099183\tvalidation_1-logloss:0.273038\n",
      "[72]\tvalidation_0-error:0.097221\tvalidation_0-logloss:0.257561\tvalidation_1-error:0.0991\tvalidation_1-logloss:0.272562\n",
      "[73]\tvalidation_0-error:0.0971\tvalidation_0-logloss:0.256867\tvalidation_1-error:0.099117\tvalidation_1-logloss:0.272106\n",
      "[74]\tvalidation_0-error:0.096907\tvalidation_0-logloss:0.256197\tvalidation_1-error:0.099067\tvalidation_1-logloss:0.271593\n",
      "[75]\tvalidation_0-error:0.096757\tvalidation_0-logloss:0.255588\tvalidation_1-error:0.09905\tvalidation_1-logloss:0.271161\n",
      "[76]\tvalidation_0-error:0.096693\tvalidation_0-logloss:0.254979\tvalidation_1-error:0.09905\tvalidation_1-logloss:0.27072\n",
      "[77]\tvalidation_0-error:0.096593\tvalidation_0-logloss:0.25431\tvalidation_1-error:0.098967\tvalidation_1-logloss:0.270205\n",
      "[78]\tvalidation_0-error:0.096357\tvalidation_0-logloss:0.25369\tvalidation_1-error:0.098833\tvalidation_1-logloss:0.269811\n",
      "[79]\tvalidation_0-error:0.096279\tvalidation_0-logloss:0.253067\tvalidation_1-error:0.098767\tvalidation_1-logloss:0.269464\n",
      "[80]\tvalidation_0-error:0.096171\tvalidation_0-logloss:0.252475\tvalidation_1-error:0.098617\tvalidation_1-logloss:0.269\n",
      "[81]\tvalidation_0-error:0.0961\tvalidation_0-logloss:0.251852\tvalidation_1-error:0.098583\tvalidation_1-logloss:0.268503\n",
      "[82]\tvalidation_0-error:0.095936\tvalidation_0-logloss:0.251258\tvalidation_1-error:0.09845\tvalidation_1-logloss:0.268086\n",
      "[83]\tvalidation_0-error:0.095821\tvalidation_0-logloss:0.250663\tvalidation_1-error:0.098467\tvalidation_1-logloss:0.267606\n",
      "[84]\tvalidation_0-error:0.095714\tvalidation_0-logloss:0.25008\tvalidation_1-error:0.09835\tvalidation_1-logloss:0.267129\n",
      "[85]\tvalidation_0-error:0.095636\tvalidation_0-logloss:0.249524\tvalidation_1-error:0.098317\tvalidation_1-logloss:0.26674\n",
      "[86]\tvalidation_0-error:0.095521\tvalidation_0-logloss:0.248949\tvalidation_1-error:0.098083\tvalidation_1-logloss:0.266368\n",
      "[87]\tvalidation_0-error:0.095457\tvalidation_0-logloss:0.24841\tvalidation_1-error:0.098\tvalidation_1-logloss:0.265936\n",
      "[88]\tvalidation_0-error:0.09525\tvalidation_0-logloss:0.247847\tvalidation_1-error:0.097933\tvalidation_1-logloss:0.265531\n",
      "[89]\tvalidation_0-error:0.095021\tvalidation_0-logloss:0.24729\tvalidation_1-error:0.0978\tvalidation_1-logloss:0.265129\n",
      "[90]\tvalidation_0-error:0.094857\tvalidation_0-logloss:0.246758\tvalidation_1-error:0.0977\tvalidation_1-logloss:0.264807\n",
      "[91]\tvalidation_0-error:0.0947\tvalidation_0-logloss:0.246254\tvalidation_1-error:0.09765\tvalidation_1-logloss:0.264435\n",
      "[92]\tvalidation_0-error:0.094671\tvalidation_0-logloss:0.24568\tvalidation_1-error:0.097567\tvalidation_1-logloss:0.263999\n",
      "[93]\tvalidation_0-error:0.094486\tvalidation_0-logloss:0.245191\tvalidation_1-error:0.097517\tvalidation_1-logloss:0.263704\n",
      "[94]\tvalidation_0-error:0.094379\tvalidation_0-logloss:0.244674\tvalidation_1-error:0.097567\tvalidation_1-logloss:0.26332\n",
      "[95]\tvalidation_0-error:0.09415\tvalidation_0-logloss:0.244138\tvalidation_1-error:0.097517\tvalidation_1-logloss:0.26295\n",
      "[96]\tvalidation_0-error:0.093993\tvalidation_0-logloss:0.243592\tvalidation_1-error:0.097383\tvalidation_1-logloss:0.262566\n",
      "[97]\tvalidation_0-error:0.09385\tvalidation_0-logloss:0.243055\tvalidation_1-error:0.097183\tvalidation_1-logloss:0.262212\n",
      "[98]\tvalidation_0-error:0.093743\tvalidation_0-logloss:0.242536\tvalidation_1-error:0.097183\tvalidation_1-logloss:0.261839\n",
      "[99]\tvalidation_0-error:0.093514\tvalidation_0-logloss:0.242012\tvalidation_1-error:0.097067\tvalidation_1-logloss:0.261471\n",
      "[100]\tvalidation_0-error:0.09335\tvalidation_0-logloss:0.241507\tvalidation_1-error:0.096983\tvalidation_1-logloss:0.261133\n",
      "[101]\tvalidation_0-error:0.09325\tvalidation_0-logloss:0.241\tvalidation_1-error:0.096833\tvalidation_1-logloss:0.260825\n",
      "[102]\tvalidation_0-error:0.0931\tvalidation_0-logloss:0.240517\tvalidation_1-error:0.096767\tvalidation_1-logloss:0.260561\n",
      "[103]\tvalidation_0-error:0.09295\tvalidation_0-logloss:0.240005\tvalidation_1-error:0.096567\tvalidation_1-logloss:0.260178\n",
      "[104]\tvalidation_0-error:0.092714\tvalidation_0-logloss:0.239527\tvalidation_1-error:0.096517\tvalidation_1-logloss:0.259869\n",
      "[105]\tvalidation_0-error:0.092593\tvalidation_0-logloss:0.239025\tvalidation_1-error:0.0964\tvalidation_1-logloss:0.259562\n",
      "[106]\tvalidation_0-error:0.092393\tvalidation_0-logloss:0.238578\tvalidation_1-error:0.0964\tvalidation_1-logloss:0.259227\n",
      "[107]\tvalidation_0-error:0.092214\tvalidation_0-logloss:0.23808\tvalidation_1-error:0.096383\tvalidation_1-logloss:0.258942\n",
      "[108]\tvalidation_0-error:0.092064\tvalidation_0-logloss:0.237598\tvalidation_1-error:0.096267\tvalidation_1-logloss:0.258548\n",
      "[109]\tvalidation_0-error:0.091886\tvalidation_0-logloss:0.237109\tvalidation_1-error:0.096067\tvalidation_1-logloss:0.25822\n",
      "[110]\tvalidation_0-error:0.091743\tvalidation_0-logloss:0.236638\tvalidation_1-error:0.095967\tvalidation_1-logloss:0.257921\n",
      "[111]\tvalidation_0-error:0.091721\tvalidation_0-logloss:0.236196\tvalidation_1-error:0.09595\tvalidation_1-logloss:0.257619\n",
      "[112]\tvalidation_0-error:0.0915\tvalidation_0-logloss:0.235707\tvalidation_1-error:0.095883\tvalidation_1-logloss:0.25729\n",
      "[113]\tvalidation_0-error:0.091343\tvalidation_0-logloss:0.235257\tvalidation_1-error:0.095817\tvalidation_1-logloss:0.256984\n",
      "[114]\tvalidation_0-error:0.091164\tvalidation_0-logloss:0.234841\tvalidation_1-error:0.095783\tvalidation_1-logloss:0.25672\n",
      "[115]\tvalidation_0-error:0.090986\tvalidation_0-logloss:0.23441\tvalidation_1-error:0.095717\tvalidation_1-logloss:0.256443\n",
      "[116]\tvalidation_0-error:0.090814\tvalidation_0-logloss:0.233966\tvalidation_1-error:0.095633\tvalidation_1-logloss:0.256127\n",
      "[117]\tvalidation_0-error:0.090621\tvalidation_0-logloss:0.233537\tvalidation_1-error:0.095617\tvalidation_1-logloss:0.255902\n",
      "[118]\tvalidation_0-error:0.090557\tvalidation_0-logloss:0.233101\tvalidation_1-error:0.095533\tvalidation_1-logloss:0.255613\n",
      "[119]\tvalidation_0-error:0.090414\tvalidation_0-logloss:0.232648\tvalidation_1-error:0.0955\tvalidation_1-logloss:0.255299\n",
      "[120]\tvalidation_0-error:0.090271\tvalidation_0-logloss:0.232192\tvalidation_1-error:0.095467\tvalidation_1-logloss:0.254938\n",
      "[121]\tvalidation_0-error:0.090243\tvalidation_0-logloss:0.231741\tvalidation_1-error:0.095417\tvalidation_1-logloss:0.254636\n",
      "[122]\tvalidation_0-error:0.090036\tvalidation_0-logloss:0.231347\tvalidation_1-error:0.09525\tvalidation_1-logloss:0.254376\n",
      "[123]\tvalidation_0-error:0.089879\tvalidation_0-logloss:0.230907\tvalidation_1-error:0.095233\tvalidation_1-logloss:0.254074\n",
      "[124]\tvalidation_0-error:0.089736\tvalidation_0-logloss:0.230451\tvalidation_1-error:0.0953\tvalidation_1-logloss:0.25385\n",
      "[125]\tvalidation_0-error:0.089564\tvalidation_0-logloss:0.229993\tvalidation_1-error:0.095167\tvalidation_1-logloss:0.253519\n",
      "[126]\tvalidation_0-error:0.089407\tvalidation_0-logloss:0.229572\tvalidation_1-error:0.09505\tvalidation_1-logloss:0.253291\n",
      "[127]\tvalidation_0-error:0.08915\tvalidation_0-logloss:0.229184\tvalidation_1-error:0.094917\tvalidation_1-logloss:0.252993\n",
      "[128]\tvalidation_0-error:0.089079\tvalidation_0-logloss:0.228742\tvalidation_1-error:0.094817\tvalidation_1-logloss:0.252739\n",
      "[129]\tvalidation_0-error:0.088986\tvalidation_0-logloss:0.228351\tvalidation_1-error:0.094767\tvalidation_1-logloss:0.252438\n",
      "[130]\tvalidation_0-error:0.088814\tvalidation_0-logloss:0.227923\tvalidation_1-error:0.094633\tvalidation_1-logloss:0.252183\n",
      "[131]\tvalidation_0-error:0.088636\tvalidation_0-logloss:0.227526\tvalidation_1-error:0.09465\tvalidation_1-logloss:0.251873\n",
      "[132]\tvalidation_0-error:0.088507\tvalidation_0-logloss:0.227124\tvalidation_1-error:0.094433\tvalidation_1-logloss:0.251656\n",
      "[133]\tvalidation_0-error:0.0883\tvalidation_0-logloss:0.226733\tvalidation_1-error:0.0944\tvalidation_1-logloss:0.251365\n",
      "[134]\tvalidation_0-error:0.088143\tvalidation_0-logloss:0.226322\tvalidation_1-error:0.094383\tvalidation_1-logloss:0.25109\n",
      "[135]\tvalidation_0-error:0.087921\tvalidation_0-logloss:0.22595\tvalidation_1-error:0.094383\tvalidation_1-logloss:0.250798\n"
     ]
    },
    {
     "name": "stdout",
     "output_type": "stream",
     "text": [
      "[136]\tvalidation_0-error:0.087771\tvalidation_0-logloss:0.225557\tvalidation_1-error:0.0942\tvalidation_1-logloss:0.250516\n",
      "[137]\tvalidation_0-error:0.087664\tvalidation_0-logloss:0.225153\tvalidation_1-error:0.094233\tvalidation_1-logloss:0.250281\n",
      "[138]\tvalidation_0-error:0.0875\tvalidation_0-logloss:0.22479\tvalidation_1-error:0.094233\tvalidation_1-logloss:0.250043\n",
      "[139]\tvalidation_0-error:0.087314\tvalidation_0-logloss:0.224392\tvalidation_1-error:0.094133\tvalidation_1-logloss:0.249795\n",
      "[140]\tvalidation_0-error:0.087314\tvalidation_0-logloss:0.223988\tvalidation_1-error:0.094067\tvalidation_1-logloss:0.249501\n",
      "[141]\tvalidation_0-error:0.08715\tvalidation_0-logloss:0.223605\tvalidation_1-error:0.094083\tvalidation_1-logloss:0.249206\n",
      "[142]\tvalidation_0-error:0.087043\tvalidation_0-logloss:0.223239\tvalidation_1-error:0.093983\tvalidation_1-logloss:0.248907\n",
      "[143]\tvalidation_0-error:0.0869\tvalidation_0-logloss:0.222889\tvalidation_1-error:0.093867\tvalidation_1-logloss:0.248688\n",
      "[144]\tvalidation_0-error:0.086779\tvalidation_0-logloss:0.222504\tvalidation_1-error:0.09385\tvalidation_1-logloss:0.248442\n",
      "[145]\tvalidation_0-error:0.086643\tvalidation_0-logloss:0.222173\tvalidation_1-error:0.093767\tvalidation_1-logloss:0.248227\n",
      "[146]\tvalidation_0-error:0.086529\tvalidation_0-logloss:0.221799\tvalidation_1-error:0.093683\tvalidation_1-logloss:0.248064\n",
      "[147]\tvalidation_0-error:0.086443\tvalidation_0-logloss:0.221442\tvalidation_1-error:0.093533\tvalidation_1-logloss:0.247821\n",
      "[148]\tvalidation_0-error:0.086243\tvalidation_0-logloss:0.221094\tvalidation_1-error:0.093567\tvalidation_1-logloss:0.247569\n",
      "[149]\tvalidation_0-error:0.086029\tvalidation_0-logloss:0.220748\tvalidation_1-error:0.09335\tvalidation_1-logloss:0.247383\n",
      "[150]\tvalidation_0-error:0.085957\tvalidation_0-logloss:0.220407\tvalidation_1-error:0.093267\tvalidation_1-logloss:0.24711\n",
      "[151]\tvalidation_0-error:0.085843\tvalidation_0-logloss:0.220039\tvalidation_1-error:0.093183\tvalidation_1-logloss:0.246893\n",
      "[152]\tvalidation_0-error:0.0857\tvalidation_0-logloss:0.219721\tvalidation_1-error:0.093017\tvalidation_1-logloss:0.246672\n",
      "[153]\tvalidation_0-error:0.085579\tvalidation_0-logloss:0.219356\tvalidation_1-error:0.093\tvalidation_1-logloss:0.24645\n",
      "[154]\tvalidation_0-error:0.085421\tvalidation_0-logloss:0.219049\tvalidation_1-error:0.092933\tvalidation_1-logloss:0.24624\n",
      "[155]\tvalidation_0-error:0.085371\tvalidation_0-logloss:0.218686\tvalidation_1-error:0.092633\tvalidation_1-logloss:0.246005\n",
      "[156]\tvalidation_0-error:0.085257\tvalidation_0-logloss:0.218357\tvalidation_1-error:0.092633\tvalidation_1-logloss:0.245789\n",
      "[157]\tvalidation_0-error:0.085207\tvalidation_0-logloss:0.218003\tvalidation_1-error:0.092633\tvalidation_1-logloss:0.245568\n",
      "[158]\tvalidation_0-error:0.085014\tvalidation_0-logloss:0.217688\tvalidation_1-error:0.092517\tvalidation_1-logloss:0.245332\n",
      "[159]\tvalidation_0-error:0.084871\tvalidation_0-logloss:0.217335\tvalidation_1-error:0.0924\tvalidation_1-logloss:0.245084\n",
      "[160]\tvalidation_0-error:0.084743\tvalidation_0-logloss:0.216998\tvalidation_1-error:0.092417\tvalidation_1-logloss:0.244846\n",
      "[161]\tvalidation_0-error:0.084621\tvalidation_0-logloss:0.216638\tvalidation_1-error:0.092467\tvalidation_1-logloss:0.244668\n",
      "[162]\tvalidation_0-error:0.084471\tvalidation_0-logloss:0.216265\tvalidation_1-error:0.09235\tvalidation_1-logloss:0.244477\n",
      "[163]\tvalidation_0-error:0.084264\tvalidation_0-logloss:0.215936\tvalidation_1-error:0.09235\tvalidation_1-logloss:0.244246\n",
      "[164]\tvalidation_0-error:0.084143\tvalidation_0-logloss:0.215631\tvalidation_1-error:0.092217\tvalidation_1-logloss:0.244068\n",
      "[165]\tvalidation_0-error:0.084064\tvalidation_0-logloss:0.215304\tvalidation_1-error:0.092267\tvalidation_1-logloss:0.243875\n",
      "[166]\tvalidation_0-error:0.083936\tvalidation_0-logloss:0.215008\tvalidation_1-error:0.092217\tvalidation_1-logloss:0.243685\n",
      "[167]\tvalidation_0-error:0.083757\tvalidation_0-logloss:0.214671\tvalidation_1-error:0.092233\tvalidation_1-logloss:0.243501\n",
      "[168]\tvalidation_0-error:0.08365\tvalidation_0-logloss:0.214367\tvalidation_1-error:0.092167\tvalidation_1-logloss:0.243328\n",
      "[169]\tvalidation_0-error:0.083507\tvalidation_0-logloss:0.214058\tvalidation_1-error:0.092117\tvalidation_1-logloss:0.243151\n",
      "[170]\tvalidation_0-error:0.083357\tvalidation_0-logloss:0.213725\tvalidation_1-error:0.091933\tvalidation_1-logloss:0.242914\n",
      "[171]\tvalidation_0-error:0.083164\tvalidation_0-logloss:0.2134\tvalidation_1-error:0.09195\tvalidation_1-logloss:0.242704\n",
      "[172]\tvalidation_0-error:0.083107\tvalidation_0-logloss:0.213101\tvalidation_1-error:0.091917\tvalidation_1-logloss:0.242506\n",
      "[173]\tvalidation_0-error:0.083014\tvalidation_0-logloss:0.212749\tvalidation_1-error:0.0917\tvalidation_1-logloss:0.242394\n",
      "[174]\tvalidation_0-error:0.082879\tvalidation_0-logloss:0.212442\tvalidation_1-error:0.091583\tvalidation_1-logloss:0.242252\n",
      "[175]\tvalidation_0-error:0.082793\tvalidation_0-logloss:0.212122\tvalidation_1-error:0.0915\tvalidation_1-logloss:0.24205\n",
      "[176]\tvalidation_0-error:0.082686\tvalidation_0-logloss:0.211787\tvalidation_1-error:0.0914\tvalidation_1-logloss:0.241845\n",
      "[177]\tvalidation_0-error:0.082536\tvalidation_0-logloss:0.211459\tvalidation_1-error:0.091367\tvalidation_1-logloss:0.241682\n",
      "[178]\tvalidation_0-error:0.082379\tvalidation_0-logloss:0.211156\tvalidation_1-error:0.09125\tvalidation_1-logloss:0.241493\n",
      "[179]\tvalidation_0-error:0.082221\tvalidation_0-logloss:0.210832\tvalidation_1-error:0.091083\tvalidation_1-logloss:0.24126\n",
      "[180]\tvalidation_0-error:0.082057\tvalidation_0-logloss:0.210531\tvalidation_1-error:0.09105\tvalidation_1-logloss:0.241076\n",
      "[181]\tvalidation_0-error:0.081921\tvalidation_0-logloss:0.210198\tvalidation_1-error:0.090983\tvalidation_1-logloss:0.240869\n",
      "[182]\tvalidation_0-error:0.081807\tvalidation_0-logloss:0.209887\tvalidation_1-error:0.090883\tvalidation_1-logloss:0.240694\n",
      "[183]\tvalidation_0-error:0.08175\tvalidation_0-logloss:0.209583\tvalidation_1-error:0.090733\tvalidation_1-logloss:0.240457\n",
      "[184]\tvalidation_0-error:0.081607\tvalidation_0-logloss:0.209282\tvalidation_1-error:0.090717\tvalidation_1-logloss:0.240295\n",
      "[185]\tvalidation_0-error:0.08135\tvalidation_0-logloss:0.208994\tvalidation_1-error:0.09055\tvalidation_1-logloss:0.2401\n",
      "[186]\tvalidation_0-error:0.081207\tvalidation_0-logloss:0.208714\tvalidation_1-error:0.090483\tvalidation_1-logloss:0.239917\n",
      "[187]\tvalidation_0-error:0.081129\tvalidation_0-logloss:0.208412\tvalidation_1-error:0.090417\tvalidation_1-logloss:0.239731\n",
      "[188]\tvalidation_0-error:0.080979\tvalidation_0-logloss:0.208118\tvalidation_1-error:0.0904\tvalidation_1-logloss:0.239589\n",
      "[189]\tvalidation_0-error:0.08095\tvalidation_0-logloss:0.207859\tvalidation_1-error:0.090383\tvalidation_1-logloss:0.239455\n",
      "[190]\tvalidation_0-error:0.080843\tvalidation_0-logloss:0.207578\tvalidation_1-error:0.09035\tvalidation_1-logloss:0.239263\n",
      "[191]\tvalidation_0-error:0.080721\tvalidation_0-logloss:0.207305\tvalidation_1-error:0.090283\tvalidation_1-logloss:0.239104\n",
      "[192]\tvalidation_0-error:0.08065\tvalidation_0-logloss:0.20698\tvalidation_1-error:0.0902\tvalidation_1-logloss:0.238942\n",
      "[193]\tvalidation_0-error:0.080486\tvalidation_0-logloss:0.206692\tvalidation_1-error:0.090067\tvalidation_1-logloss:0.23877\n",
      "[194]\tvalidation_0-error:0.080329\tvalidation_0-logloss:0.206406\tvalidation_1-error:0.089967\tvalidation_1-logloss:0.238559\n",
      "[195]\tvalidation_0-error:0.080214\tvalidation_0-logloss:0.206147\tvalidation_1-error:0.089833\tvalidation_1-logloss:0.238383\n",
      "[196]\tvalidation_0-error:0.080114\tvalidation_0-logloss:0.205898\tvalidation_1-error:0.089883\tvalidation_1-logloss:0.238252\n",
      "[197]\tvalidation_0-error:0.079993\tvalidation_0-logloss:0.205613\tvalidation_1-error:0.089917\tvalidation_1-logloss:0.238094\n",
      "[198]\tvalidation_0-error:0.07995\tvalidation_0-logloss:0.205316\tvalidation_1-error:0.089817\tvalidation_1-logloss:0.237921\n",
      "[199]\tvalidation_0-error:0.079757\tvalidation_0-logloss:0.205035\tvalidation_1-error:0.089833\tvalidation_1-logloss:0.237719\n"
     ]
    }
   ],
   "source": [
    "model = xgb.XGBClassifier(max_depth=4,\n",
    "                        subsample=0.9,\n",
    "                        objective='binary:logistic',\n",
    "                        n_estimators=200,\n",
    "                        learning_rate = 0.1)\n",
    "eval_set = [(x_train, y_train), (x_test, y_test)]\n",
    "model.fit(x_train, y_train, early_stopping_rounds=10, eval_metric=[\"error\", \"logloss\"], eval_set=eval_set, verbose=True);"
   ]
  },
  {
   "cell_type": "code",
   "execution_count": 7,
   "metadata": {},
   "outputs": [],
   "source": [
    "from sklearn.naive_bayes import GaussianNB\n",
    "model1 = GaussianNB()\n",
    "model1.fit(x_train, y_train);"
   ]
  },
  {
   "cell_type": "code",
   "execution_count": 8,
   "metadata": {},
   "outputs": [
    {
     "data": {
      "text/plain": [
       "0.9098"
      ]
     },
     "execution_count": 8,
     "metadata": {},
     "output_type": "execute_result"
    }
   ],
   "source": [
    "from sklearn.ensemble import VotingClassifier\n",
    "estimators=[('naivebayes', model1),('XGB', model)]\n",
    "                        \n",
    "ensemble=VotingClassifier(estimators,voting='hard')\n",
    "ensemble.fit(x_train,y_train)\n",
    "ensemble.score(x_test,y_test)"
   ]
  },
  {
   "cell_type": "code",
   "execution_count": 9,
   "metadata": {},
   "outputs": [
    {
     "name": "stdout",
     "output_type": "stream",
     "text": [
      "[[53870   101]\n",
      " [ 5311   718]]\n"
     ]
    }
   ],
   "source": [
    "y_pred = ensemble.predict(x_test)\n",
    "from sklearn.metrics import confusion_matrix\n",
    "confusion_matrix = confusion_matrix(y_test, y_pred)\n",
    "print(confusion_matrix)"
   ]
  },
  {
   "cell_type": "code",
   "execution_count": 12,
   "metadata": {},
   "outputs": [
    {
     "name": "stdout",
     "output_type": "stream",
     "text": [
      "0.5586098422545033\n"
     ]
    }
   ],
   "source": [
    "from sklearn import metrics\n",
    "\n",
    "print(metrics.roc_auc_score(y_test, y_pred))"
   ]
  },
  {
   "cell_type": "code",
   "execution_count": null,
   "metadata": {},
   "outputs": [],
   "source": []
  }
 ],
 "metadata": {
  "kernelspec": {
   "display_name": "Python 3",
   "language": "python",
   "name": "python3"
  },
  "language_info": {
   "codemirror_mode": {
    "name": "ipython",
    "version": 3
   },
   "file_extension": ".py",
   "mimetype": "text/x-python",
   "name": "python",
   "nbconvert_exporter": "python",
   "pygments_lexer": "ipython3",
   "version": "3.7.1"
  }
 },
 "nbformat": 4,
 "nbformat_minor": 2
}
